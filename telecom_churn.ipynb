{
 "cells": [
  {
   "cell_type": "markdown",
   "metadata": {
    "colab_type": "text",
    "id": "Vfwl19gBLIUH"
   },
   "source": [
    "## Предсказание оттока телеком компании"
   ]
  },
  {
   "cell_type": "markdown",
   "metadata": {
    "colab_type": "text",
    "id": "zzuwnvz6LIY4"
   },
   "source": [
    "#### Что такое \"скорость оттока\"?\n",
    "\n",
    "Коэффициент оттока - это процент подписчиков на услугу, которые прекращают свою подписку на услугу в течение заданного периода времени. Для того чтобы компания могла расширить свою клиентуру, ее темпы роста, измеряемые числом новых клиентов, должны превышать темпы оттока. Этот показатель обычно выражается в процентах."
   ]
  },
  {
   "cell_type": "markdown",
   "metadata": {
    "colab_type": "text",
    "id": "xGQIRZDALIbT"
   },
   "source": [
    "#### Почему отток так важен?\n",
    "\n",
    "Отток клиентов - это термин, используемый в компаниях с подписочной моделью ведения бизнеса для описания потери клиентов. Например, если 10 из 100 подписчиков интернет-провайдера (ISP) отменили свои подписки, скорость оттока для этого провайдера составит 10%.\n",
    "\n",
    "Отток важен, потому что он напрямую влияет на прибыльность вашего сервиса. Принято считать, что прибыльность услуги напрямую связана с ростом ее клиентской базы. Это может привести владельцев бизнеса к выводу, что для того, чтобы увеличить свою клиентскую базу, скорость приобретения новых клиентов должна превышать скорость оттока."
   ]
  },
  {
   "cell_type": "markdown",
   "metadata": {
    "colab_type": "text",
    "id": "uBE-CE01LIdr"
   },
   "source": [
    "#### Что из себя представляет датасет?\n",
    "\n",
    "Датасет представляет из себя 3333 записи из истории компании о клиентах с 21 колонкой. Каждая колонка описывает клиента - его штат проживания, время использования услуги, номер, перечень подписок, время разговора, прочее."
   ]
  },
  {
   "cell_type": "markdown",
   "metadata": {
    "colab_type": "text",
    "id": "zgQBiSeHLIiU"
   },
   "source": [
    "## Загрузка данных"
   ]
  },
  {
   "cell_type": "markdown",
   "metadata": {
    "colab_type": "text",
    "id": "sjqior08MTAq"
   },
   "source": [
    "Загружаем все необходимые библиотеки"
   ]
  },
  {
   "cell_type": "code",
   "execution_count": 1,
   "metadata": {
    "colab": {},
    "colab_type": "code",
    "id": "_oEKlPQ3MKmo"
   },
   "outputs": [],
   "source": [
    "import pandas as pd\n",
    "import numpy as np\n",
    "import matplotlib.pyplot as plt\n",
    "import seaborn as sns\n",
    "\n",
    "import sklearn"
   ]
  },
  {
   "cell_type": "code",
   "execution_count": 2,
   "metadata": {
    "colab": {},
    "colab_type": "code",
    "id": "_y1OKScqLbEg"
   },
   "outputs": [],
   "source": [
    "df = pd.read_csv('./telecom_churn.csv')"
   ]
  },
  {
   "cell_type": "code",
   "execution_count": 3,
   "metadata": {
    "colab": {
     "base_uri": "https://localhost:8080/",
     "height": 305
    },
    "colab_type": "code",
    "id": "cUmSqnqsMBCL",
    "outputId": "c76e0cfe-6a4a-456b-968f-c7ffc0c4f3ee"
   },
   "outputs": [
    {
     "data": {
      "text/html": [
       "<div>\n",
       "<style scoped>\n",
       "    .dataframe tbody tr th:only-of-type {\n",
       "        vertical-align: middle;\n",
       "    }\n",
       "\n",
       "    .dataframe tbody tr th {\n",
       "        vertical-align: top;\n",
       "    }\n",
       "\n",
       "    .dataframe thead th {\n",
       "        text-align: right;\n",
       "    }\n",
       "</style>\n",
       "<table border=\"1\" class=\"dataframe\">\n",
       "  <thead>\n",
       "    <tr style=\"text-align: right;\">\n",
       "      <th></th>\n",
       "      <th>state</th>\n",
       "      <th>account length</th>\n",
       "      <th>area code</th>\n",
       "      <th>phone number</th>\n",
       "      <th>international plan</th>\n",
       "      <th>voice mail plan</th>\n",
       "      <th>number vmail messages</th>\n",
       "      <th>total day minutes</th>\n",
       "      <th>total day calls</th>\n",
       "      <th>total day charge</th>\n",
       "      <th>...</th>\n",
       "      <th>total eve calls</th>\n",
       "      <th>total eve charge</th>\n",
       "      <th>total night minutes</th>\n",
       "      <th>total night calls</th>\n",
       "      <th>total night charge</th>\n",
       "      <th>total intl minutes</th>\n",
       "      <th>total intl calls</th>\n",
       "      <th>total intl charge</th>\n",
       "      <th>customer service calls</th>\n",
       "      <th>churn</th>\n",
       "    </tr>\n",
       "  </thead>\n",
       "  <tbody>\n",
       "    <tr>\n",
       "      <th>0</th>\n",
       "      <td>KS</td>\n",
       "      <td>128</td>\n",
       "      <td>415</td>\n",
       "      <td>382-4657</td>\n",
       "      <td>no</td>\n",
       "      <td>yes</td>\n",
       "      <td>25</td>\n",
       "      <td>265.1</td>\n",
       "      <td>110</td>\n",
       "      <td>45.07</td>\n",
       "      <td>...</td>\n",
       "      <td>99</td>\n",
       "      <td>16.78</td>\n",
       "      <td>244.7</td>\n",
       "      <td>91</td>\n",
       "      <td>11.01</td>\n",
       "      <td>10.0</td>\n",
       "      <td>3</td>\n",
       "      <td>2.70</td>\n",
       "      <td>1</td>\n",
       "      <td>False</td>\n",
       "    </tr>\n",
       "    <tr>\n",
       "      <th>1</th>\n",
       "      <td>OH</td>\n",
       "      <td>107</td>\n",
       "      <td>415</td>\n",
       "      <td>371-7191</td>\n",
       "      <td>no</td>\n",
       "      <td>yes</td>\n",
       "      <td>26</td>\n",
       "      <td>161.6</td>\n",
       "      <td>123</td>\n",
       "      <td>27.47</td>\n",
       "      <td>...</td>\n",
       "      <td>103</td>\n",
       "      <td>16.62</td>\n",
       "      <td>254.4</td>\n",
       "      <td>103</td>\n",
       "      <td>11.45</td>\n",
       "      <td>13.7</td>\n",
       "      <td>3</td>\n",
       "      <td>3.70</td>\n",
       "      <td>1</td>\n",
       "      <td>False</td>\n",
       "    </tr>\n",
       "    <tr>\n",
       "      <th>2</th>\n",
       "      <td>NJ</td>\n",
       "      <td>137</td>\n",
       "      <td>415</td>\n",
       "      <td>358-1921</td>\n",
       "      <td>no</td>\n",
       "      <td>no</td>\n",
       "      <td>0</td>\n",
       "      <td>243.4</td>\n",
       "      <td>114</td>\n",
       "      <td>41.38</td>\n",
       "      <td>...</td>\n",
       "      <td>110</td>\n",
       "      <td>10.30</td>\n",
       "      <td>162.6</td>\n",
       "      <td>104</td>\n",
       "      <td>7.32</td>\n",
       "      <td>12.2</td>\n",
       "      <td>5</td>\n",
       "      <td>3.29</td>\n",
       "      <td>0</td>\n",
       "      <td>False</td>\n",
       "    </tr>\n",
       "    <tr>\n",
       "      <th>3</th>\n",
       "      <td>OH</td>\n",
       "      <td>84</td>\n",
       "      <td>408</td>\n",
       "      <td>375-9999</td>\n",
       "      <td>yes</td>\n",
       "      <td>no</td>\n",
       "      <td>0</td>\n",
       "      <td>299.4</td>\n",
       "      <td>71</td>\n",
       "      <td>50.90</td>\n",
       "      <td>...</td>\n",
       "      <td>88</td>\n",
       "      <td>5.26</td>\n",
       "      <td>196.9</td>\n",
       "      <td>89</td>\n",
       "      <td>8.86</td>\n",
       "      <td>6.6</td>\n",
       "      <td>7</td>\n",
       "      <td>1.78</td>\n",
       "      <td>2</td>\n",
       "      <td>False</td>\n",
       "    </tr>\n",
       "    <tr>\n",
       "      <th>4</th>\n",
       "      <td>OK</td>\n",
       "      <td>75</td>\n",
       "      <td>415</td>\n",
       "      <td>330-6626</td>\n",
       "      <td>yes</td>\n",
       "      <td>no</td>\n",
       "      <td>0</td>\n",
       "      <td>166.7</td>\n",
       "      <td>113</td>\n",
       "      <td>28.34</td>\n",
       "      <td>...</td>\n",
       "      <td>122</td>\n",
       "      <td>12.61</td>\n",
       "      <td>186.9</td>\n",
       "      <td>121</td>\n",
       "      <td>8.41</td>\n",
       "      <td>10.1</td>\n",
       "      <td>3</td>\n",
       "      <td>2.73</td>\n",
       "      <td>3</td>\n",
       "      <td>False</td>\n",
       "    </tr>\n",
       "  </tbody>\n",
       "</table>\n",
       "<p>5 rows × 21 columns</p>\n",
       "</div>"
      ],
      "text/plain": [
       "  state  account length  area code phone number international plan  \\\n",
       "0    KS             128        415     382-4657                 no   \n",
       "1    OH             107        415     371-7191                 no   \n",
       "2    NJ             137        415     358-1921                 no   \n",
       "3    OH              84        408     375-9999                yes   \n",
       "4    OK              75        415     330-6626                yes   \n",
       "\n",
       "  voice mail plan  number vmail messages  total day minutes  total day calls  \\\n",
       "0             yes                     25              265.1              110   \n",
       "1             yes                     26              161.6              123   \n",
       "2              no                      0              243.4              114   \n",
       "3              no                      0              299.4               71   \n",
       "4              no                      0              166.7              113   \n",
       "\n",
       "   total day charge  ...  total eve calls  total eve charge  \\\n",
       "0             45.07  ...               99             16.78   \n",
       "1             27.47  ...              103             16.62   \n",
       "2             41.38  ...              110             10.30   \n",
       "3             50.90  ...               88              5.26   \n",
       "4             28.34  ...              122             12.61   \n",
       "\n",
       "   total night minutes  total night calls  total night charge  \\\n",
       "0                244.7                 91               11.01   \n",
       "1                254.4                103               11.45   \n",
       "2                162.6                104                7.32   \n",
       "3                196.9                 89                8.86   \n",
       "4                186.9                121                8.41   \n",
       "\n",
       "   total intl minutes  total intl calls  total intl charge  \\\n",
       "0                10.0                 3               2.70   \n",
       "1                13.7                 3               3.70   \n",
       "2                12.2                 5               3.29   \n",
       "3                 6.6                 7               1.78   \n",
       "4                10.1                 3               2.73   \n",
       "\n",
       "   customer service calls  churn  \n",
       "0                       1  False  \n",
       "1                       1  False  \n",
       "2                       0  False  \n",
       "3                       2  False  \n",
       "4                       3  False  \n",
       "\n",
       "[5 rows x 21 columns]"
      ]
     },
     "execution_count": 3,
     "metadata": {},
     "output_type": "execute_result"
    }
   ],
   "source": [
    "df.head()"
   ]
  },
  {
   "cell_type": "markdown",
   "metadata": {
    "colab_type": "text",
    "id": "OoLBh9biNFX3"
   },
   "source": [
    "## Работа с признаками"
   ]
  },
  {
   "cell_type": "markdown",
   "metadata": {
    "colab_type": "text",
    "id": "KsnMxQ_JVfKi"
   },
   "source": [
    "#### Визуальный анализ"
   ]
  },
  {
   "cell_type": "markdown",
   "metadata": {
    "colab_type": "text",
    "id": "fJWb61hmNNm8"
   },
   "source": [
    "Изучим наши данные, какие признаки исходного датасета никак не повлияют на результат прогноза? Выбросим такие столбцы и отобразим результат."
   ]
  },
  {
   "cell_type": "code",
   "execution_count": 4,
   "metadata": {
    "colab": {},
    "colab_type": "code",
    "id": "ECU4VHTSg-1x"
   },
   "outputs": [],
   "source": [
    "del df['phone number'] #удаляем столбец с номером телефона"
   ]
  },
  {
   "cell_type": "code",
   "execution_count": 5,
   "metadata": {
    "colab": {
     "base_uri": "https://localhost:8080/",
     "height": 223
    },
    "colab_type": "code",
    "id": "UUE3re28jVdF",
    "outputId": "d2ba4bf8-f8a8-4af6-ffaf-56a1cd4dfb91"
   },
   "outputs": [
    {
     "data": {
      "text/html": [
       "<div>\n",
       "<style scoped>\n",
       "    .dataframe tbody tr th:only-of-type {\n",
       "        vertical-align: middle;\n",
       "    }\n",
       "\n",
       "    .dataframe tbody tr th {\n",
       "        vertical-align: top;\n",
       "    }\n",
       "\n",
       "    .dataframe thead th {\n",
       "        text-align: right;\n",
       "    }\n",
       "</style>\n",
       "<table border=\"1\" class=\"dataframe\">\n",
       "  <thead>\n",
       "    <tr style=\"text-align: right;\">\n",
       "      <th></th>\n",
       "      <th>state</th>\n",
       "      <th>account length</th>\n",
       "      <th>area code</th>\n",
       "      <th>international plan</th>\n",
       "      <th>voice mail plan</th>\n",
       "      <th>number vmail messages</th>\n",
       "      <th>total day minutes</th>\n",
       "      <th>total day calls</th>\n",
       "      <th>total day charge</th>\n",
       "      <th>total eve minutes</th>\n",
       "      <th>total eve calls</th>\n",
       "      <th>total eve charge</th>\n",
       "      <th>total night minutes</th>\n",
       "      <th>total night calls</th>\n",
       "      <th>total night charge</th>\n",
       "      <th>total intl minutes</th>\n",
       "      <th>total intl calls</th>\n",
       "      <th>total intl charge</th>\n",
       "      <th>customer service calls</th>\n",
       "      <th>churn</th>\n",
       "    </tr>\n",
       "  </thead>\n",
       "  <tbody>\n",
       "    <tr>\n",
       "      <th>0</th>\n",
       "      <td>KS</td>\n",
       "      <td>128</td>\n",
       "      <td>415</td>\n",
       "      <td>no</td>\n",
       "      <td>yes</td>\n",
       "      <td>25</td>\n",
       "      <td>265.1</td>\n",
       "      <td>110</td>\n",
       "      <td>45.07</td>\n",
       "      <td>197.4</td>\n",
       "      <td>99</td>\n",
       "      <td>16.78</td>\n",
       "      <td>244.7</td>\n",
       "      <td>91</td>\n",
       "      <td>11.01</td>\n",
       "      <td>10.0</td>\n",
       "      <td>3</td>\n",
       "      <td>2.70</td>\n",
       "      <td>1</td>\n",
       "      <td>False</td>\n",
       "    </tr>\n",
       "    <tr>\n",
       "      <th>1</th>\n",
       "      <td>OH</td>\n",
       "      <td>107</td>\n",
       "      <td>415</td>\n",
       "      <td>no</td>\n",
       "      <td>yes</td>\n",
       "      <td>26</td>\n",
       "      <td>161.6</td>\n",
       "      <td>123</td>\n",
       "      <td>27.47</td>\n",
       "      <td>195.5</td>\n",
       "      <td>103</td>\n",
       "      <td>16.62</td>\n",
       "      <td>254.4</td>\n",
       "      <td>103</td>\n",
       "      <td>11.45</td>\n",
       "      <td>13.7</td>\n",
       "      <td>3</td>\n",
       "      <td>3.70</td>\n",
       "      <td>1</td>\n",
       "      <td>False</td>\n",
       "    </tr>\n",
       "    <tr>\n",
       "      <th>2</th>\n",
       "      <td>NJ</td>\n",
       "      <td>137</td>\n",
       "      <td>415</td>\n",
       "      <td>no</td>\n",
       "      <td>no</td>\n",
       "      <td>0</td>\n",
       "      <td>243.4</td>\n",
       "      <td>114</td>\n",
       "      <td>41.38</td>\n",
       "      <td>121.2</td>\n",
       "      <td>110</td>\n",
       "      <td>10.30</td>\n",
       "      <td>162.6</td>\n",
       "      <td>104</td>\n",
       "      <td>7.32</td>\n",
       "      <td>12.2</td>\n",
       "      <td>5</td>\n",
       "      <td>3.29</td>\n",
       "      <td>0</td>\n",
       "      <td>False</td>\n",
       "    </tr>\n",
       "    <tr>\n",
       "      <th>3</th>\n",
       "      <td>OH</td>\n",
       "      <td>84</td>\n",
       "      <td>408</td>\n",
       "      <td>yes</td>\n",
       "      <td>no</td>\n",
       "      <td>0</td>\n",
       "      <td>299.4</td>\n",
       "      <td>71</td>\n",
       "      <td>50.90</td>\n",
       "      <td>61.9</td>\n",
       "      <td>88</td>\n",
       "      <td>5.26</td>\n",
       "      <td>196.9</td>\n",
       "      <td>89</td>\n",
       "      <td>8.86</td>\n",
       "      <td>6.6</td>\n",
       "      <td>7</td>\n",
       "      <td>1.78</td>\n",
       "      <td>2</td>\n",
       "      <td>False</td>\n",
       "    </tr>\n",
       "    <tr>\n",
       "      <th>4</th>\n",
       "      <td>OK</td>\n",
       "      <td>75</td>\n",
       "      <td>415</td>\n",
       "      <td>yes</td>\n",
       "      <td>no</td>\n",
       "      <td>0</td>\n",
       "      <td>166.7</td>\n",
       "      <td>113</td>\n",
       "      <td>28.34</td>\n",
       "      <td>148.3</td>\n",
       "      <td>122</td>\n",
       "      <td>12.61</td>\n",
       "      <td>186.9</td>\n",
       "      <td>121</td>\n",
       "      <td>8.41</td>\n",
       "      <td>10.1</td>\n",
       "      <td>3</td>\n",
       "      <td>2.73</td>\n",
       "      <td>3</td>\n",
       "      <td>False</td>\n",
       "    </tr>\n",
       "  </tbody>\n",
       "</table>\n",
       "</div>"
      ],
      "text/plain": [
       "  state  account length  area code international plan voice mail plan  \\\n",
       "0    KS             128        415                 no             yes   \n",
       "1    OH             107        415                 no             yes   \n",
       "2    NJ             137        415                 no              no   \n",
       "3    OH              84        408                yes              no   \n",
       "4    OK              75        415                yes              no   \n",
       "\n",
       "   number vmail messages  total day minutes  total day calls  \\\n",
       "0                     25              265.1              110   \n",
       "1                     26              161.6              123   \n",
       "2                      0              243.4              114   \n",
       "3                      0              299.4               71   \n",
       "4                      0              166.7              113   \n",
       "\n",
       "   total day charge  total eve minutes  total eve calls  total eve charge  \\\n",
       "0             45.07              197.4               99             16.78   \n",
       "1             27.47              195.5              103             16.62   \n",
       "2             41.38              121.2              110             10.30   \n",
       "3             50.90               61.9               88              5.26   \n",
       "4             28.34              148.3              122             12.61   \n",
       "\n",
       "   total night minutes  total night calls  total night charge  \\\n",
       "0                244.7                 91               11.01   \n",
       "1                254.4                103               11.45   \n",
       "2                162.6                104                7.32   \n",
       "3                196.9                 89                8.86   \n",
       "4                186.9                121                8.41   \n",
       "\n",
       "   total intl minutes  total intl calls  total intl charge  \\\n",
       "0                10.0                 3               2.70   \n",
       "1                13.7                 3               3.70   \n",
       "2                12.2                 5               3.29   \n",
       "3                 6.6                 7               1.78   \n",
       "4                10.1                 3               2.73   \n",
       "\n",
       "   customer service calls  churn  \n",
       "0                       1  False  \n",
       "1                       1  False  \n",
       "2                       0  False  \n",
       "3                       2  False  \n",
       "4                       3  False  "
      ]
     },
     "execution_count": 5,
     "metadata": {},
     "output_type": "execute_result"
    }
   ],
   "source": [
    "df.head() #отображаем данные"
   ]
  },
  {
   "cell_type": "markdown",
   "metadata": {
    "colab_type": "text",
    "id": "j4HurSGIOwnC"
   },
   "source": [
    "Посмотрим на описательную статистику, которая суммирует центральную тенденцию, дисперсию и форму распределения набора данных. Корректно ли все заполнено?"
   ]
  },
  {
   "cell_type": "code",
   "execution_count": 6,
   "metadata": {
    "colab": {
     "base_uri": "https://localhost:8080/",
     "height": 293
    },
    "colab_type": "code",
    "id": "ySUAbw3GkLtK",
    "outputId": "e3d7c3b9-9faa-4ac6-f416-e27ecf90ba5a"
   },
   "outputs": [
    {
     "data": {
      "text/html": [
       "<div>\n",
       "<style scoped>\n",
       "    .dataframe tbody tr th:only-of-type {\n",
       "        vertical-align: middle;\n",
       "    }\n",
       "\n",
       "    .dataframe tbody tr th {\n",
       "        vertical-align: top;\n",
       "    }\n",
       "\n",
       "    .dataframe thead th {\n",
       "        text-align: right;\n",
       "    }\n",
       "</style>\n",
       "<table border=\"1\" class=\"dataframe\">\n",
       "  <thead>\n",
       "    <tr style=\"text-align: right;\">\n",
       "      <th></th>\n",
       "      <th>account length</th>\n",
       "      <th>area code</th>\n",
       "      <th>number vmail messages</th>\n",
       "      <th>total day minutes</th>\n",
       "      <th>total day calls</th>\n",
       "      <th>total day charge</th>\n",
       "      <th>total eve minutes</th>\n",
       "      <th>total eve calls</th>\n",
       "      <th>total eve charge</th>\n",
       "      <th>total night minutes</th>\n",
       "      <th>total night calls</th>\n",
       "      <th>total night charge</th>\n",
       "      <th>total intl minutes</th>\n",
       "      <th>total intl calls</th>\n",
       "      <th>total intl charge</th>\n",
       "      <th>customer service calls</th>\n",
       "    </tr>\n",
       "  </thead>\n",
       "  <tbody>\n",
       "    <tr>\n",
       "      <th>count</th>\n",
       "      <td>3333.000000</td>\n",
       "      <td>3333.000000</td>\n",
       "      <td>3333.000000</td>\n",
       "      <td>3333.000000</td>\n",
       "      <td>3333.000000</td>\n",
       "      <td>3333.000000</td>\n",
       "      <td>3333.000000</td>\n",
       "      <td>3333.000000</td>\n",
       "      <td>3333.000000</td>\n",
       "      <td>3333.000000</td>\n",
       "      <td>3333.000000</td>\n",
       "      <td>3333.000000</td>\n",
       "      <td>3333.000000</td>\n",
       "      <td>3333.000000</td>\n",
       "      <td>3333.000000</td>\n",
       "      <td>3333.000000</td>\n",
       "    </tr>\n",
       "    <tr>\n",
       "      <th>mean</th>\n",
       "      <td>101.064806</td>\n",
       "      <td>437.182418</td>\n",
       "      <td>8.099010</td>\n",
       "      <td>179.775098</td>\n",
       "      <td>100.435644</td>\n",
       "      <td>30.562307</td>\n",
       "      <td>200.980348</td>\n",
       "      <td>100.114311</td>\n",
       "      <td>17.083540</td>\n",
       "      <td>200.872037</td>\n",
       "      <td>100.107711</td>\n",
       "      <td>9.039325</td>\n",
       "      <td>10.237294</td>\n",
       "      <td>4.479448</td>\n",
       "      <td>2.764581</td>\n",
       "      <td>1.562856</td>\n",
       "    </tr>\n",
       "    <tr>\n",
       "      <th>std</th>\n",
       "      <td>39.822106</td>\n",
       "      <td>42.371290</td>\n",
       "      <td>13.688365</td>\n",
       "      <td>54.467389</td>\n",
       "      <td>20.069084</td>\n",
       "      <td>9.259435</td>\n",
       "      <td>50.713844</td>\n",
       "      <td>19.922625</td>\n",
       "      <td>4.310668</td>\n",
       "      <td>50.573847</td>\n",
       "      <td>19.568609</td>\n",
       "      <td>2.275873</td>\n",
       "      <td>2.791840</td>\n",
       "      <td>2.461214</td>\n",
       "      <td>0.753773</td>\n",
       "      <td>1.315491</td>\n",
       "    </tr>\n",
       "    <tr>\n",
       "      <th>min</th>\n",
       "      <td>1.000000</td>\n",
       "      <td>408.000000</td>\n",
       "      <td>0.000000</td>\n",
       "      <td>0.000000</td>\n",
       "      <td>0.000000</td>\n",
       "      <td>0.000000</td>\n",
       "      <td>0.000000</td>\n",
       "      <td>0.000000</td>\n",
       "      <td>0.000000</td>\n",
       "      <td>23.200000</td>\n",
       "      <td>33.000000</td>\n",
       "      <td>1.040000</td>\n",
       "      <td>0.000000</td>\n",
       "      <td>0.000000</td>\n",
       "      <td>0.000000</td>\n",
       "      <td>0.000000</td>\n",
       "    </tr>\n",
       "    <tr>\n",
       "      <th>25%</th>\n",
       "      <td>74.000000</td>\n",
       "      <td>408.000000</td>\n",
       "      <td>0.000000</td>\n",
       "      <td>143.700000</td>\n",
       "      <td>87.000000</td>\n",
       "      <td>24.430000</td>\n",
       "      <td>166.600000</td>\n",
       "      <td>87.000000</td>\n",
       "      <td>14.160000</td>\n",
       "      <td>167.000000</td>\n",
       "      <td>87.000000</td>\n",
       "      <td>7.520000</td>\n",
       "      <td>8.500000</td>\n",
       "      <td>3.000000</td>\n",
       "      <td>2.300000</td>\n",
       "      <td>1.000000</td>\n",
       "    </tr>\n",
       "    <tr>\n",
       "      <th>50%</th>\n",
       "      <td>101.000000</td>\n",
       "      <td>415.000000</td>\n",
       "      <td>0.000000</td>\n",
       "      <td>179.400000</td>\n",
       "      <td>101.000000</td>\n",
       "      <td>30.500000</td>\n",
       "      <td>201.400000</td>\n",
       "      <td>100.000000</td>\n",
       "      <td>17.120000</td>\n",
       "      <td>201.200000</td>\n",
       "      <td>100.000000</td>\n",
       "      <td>9.050000</td>\n",
       "      <td>10.300000</td>\n",
       "      <td>4.000000</td>\n",
       "      <td>2.780000</td>\n",
       "      <td>1.000000</td>\n",
       "    </tr>\n",
       "    <tr>\n",
       "      <th>75%</th>\n",
       "      <td>127.000000</td>\n",
       "      <td>510.000000</td>\n",
       "      <td>20.000000</td>\n",
       "      <td>216.400000</td>\n",
       "      <td>114.000000</td>\n",
       "      <td>36.790000</td>\n",
       "      <td>235.300000</td>\n",
       "      <td>114.000000</td>\n",
       "      <td>20.000000</td>\n",
       "      <td>235.300000</td>\n",
       "      <td>113.000000</td>\n",
       "      <td>10.590000</td>\n",
       "      <td>12.100000</td>\n",
       "      <td>6.000000</td>\n",
       "      <td>3.270000</td>\n",
       "      <td>2.000000</td>\n",
       "    </tr>\n",
       "    <tr>\n",
       "      <th>max</th>\n",
       "      <td>243.000000</td>\n",
       "      <td>510.000000</td>\n",
       "      <td>51.000000</td>\n",
       "      <td>350.800000</td>\n",
       "      <td>165.000000</td>\n",
       "      <td>59.640000</td>\n",
       "      <td>363.700000</td>\n",
       "      <td>170.000000</td>\n",
       "      <td>30.910000</td>\n",
       "      <td>395.000000</td>\n",
       "      <td>175.000000</td>\n",
       "      <td>17.770000</td>\n",
       "      <td>20.000000</td>\n",
       "      <td>20.000000</td>\n",
       "      <td>5.400000</td>\n",
       "      <td>9.000000</td>\n",
       "    </tr>\n",
       "  </tbody>\n",
       "</table>\n",
       "</div>"
      ],
      "text/plain": [
       "       account length    area code  number vmail messages  total day minutes  \\\n",
       "count     3333.000000  3333.000000            3333.000000        3333.000000   \n",
       "mean       101.064806   437.182418               8.099010         179.775098   \n",
       "std         39.822106    42.371290              13.688365          54.467389   \n",
       "min          1.000000   408.000000               0.000000           0.000000   \n",
       "25%         74.000000   408.000000               0.000000         143.700000   \n",
       "50%        101.000000   415.000000               0.000000         179.400000   \n",
       "75%        127.000000   510.000000              20.000000         216.400000   \n",
       "max        243.000000   510.000000              51.000000         350.800000   \n",
       "\n",
       "       total day calls  total day charge  total eve minutes  total eve calls  \\\n",
       "count      3333.000000       3333.000000        3333.000000      3333.000000   \n",
       "mean        100.435644         30.562307         200.980348       100.114311   \n",
       "std          20.069084          9.259435          50.713844        19.922625   \n",
       "min           0.000000          0.000000           0.000000         0.000000   \n",
       "25%          87.000000         24.430000         166.600000        87.000000   \n",
       "50%         101.000000         30.500000         201.400000       100.000000   \n",
       "75%         114.000000         36.790000         235.300000       114.000000   \n",
       "max         165.000000         59.640000         363.700000       170.000000   \n",
       "\n",
       "       total eve charge  total night minutes  total night calls  \\\n",
       "count       3333.000000          3333.000000        3333.000000   \n",
       "mean          17.083540           200.872037         100.107711   \n",
       "std            4.310668            50.573847          19.568609   \n",
       "min            0.000000            23.200000          33.000000   \n",
       "25%           14.160000           167.000000          87.000000   \n",
       "50%           17.120000           201.200000         100.000000   \n",
       "75%           20.000000           235.300000         113.000000   \n",
       "max           30.910000           395.000000         175.000000   \n",
       "\n",
       "       total night charge  total intl minutes  total intl calls  \\\n",
       "count         3333.000000         3333.000000       3333.000000   \n",
       "mean             9.039325           10.237294          4.479448   \n",
       "std              2.275873            2.791840          2.461214   \n",
       "min              1.040000            0.000000          0.000000   \n",
       "25%              7.520000            8.500000          3.000000   \n",
       "50%              9.050000           10.300000          4.000000   \n",
       "75%             10.590000           12.100000          6.000000   \n",
       "max             17.770000           20.000000         20.000000   \n",
       "\n",
       "       total intl charge  customer service calls  \n",
       "count        3333.000000             3333.000000  \n",
       "mean            2.764581                1.562856  \n",
       "std             0.753773                1.315491  \n",
       "min             0.000000                0.000000  \n",
       "25%             2.300000                1.000000  \n",
       "50%             2.780000                1.000000  \n",
       "75%             3.270000                2.000000  \n",
       "max             5.400000                9.000000  "
      ]
     },
     "execution_count": 6,
     "metadata": {},
     "output_type": "execute_result"
    }
   ],
   "source": [
    "df.describe()"
   ]
  },
  {
   "cell_type": "markdown",
   "metadata": {
    "colab_type": "text",
    "id": "T_ehN03yPA2I"
   },
   "source": [
    "Посмотрим на типы данных наших столбцов:"
   ]
  },
  {
   "cell_type": "code",
   "execution_count": 7,
   "metadata": {
    "colab": {
     "base_uri": "https://localhost:8080/",
     "height": 358
    },
    "colab_type": "code",
    "id": "YlT6oFsvKrAB",
    "outputId": "66d395c6-852a-4540-fdfd-262a25a7863e"
   },
   "outputs": [
    {
     "data": {
      "text/plain": [
       "state                      object\n",
       "account length              int64\n",
       "area code                   int64\n",
       "international plan         object\n",
       "voice mail plan            object\n",
       "number vmail messages       int64\n",
       "total day minutes         float64\n",
       "total day calls             int64\n",
       "total day charge          float64\n",
       "total eve minutes         float64\n",
       "total eve calls             int64\n",
       "total eve charge          float64\n",
       "total night minutes       float64\n",
       "total night calls           int64\n",
       "total night charge        float64\n",
       "total intl minutes        float64\n",
       "total intl calls            int64\n",
       "total intl charge         float64\n",
       "customer service calls      int64\n",
       "churn                        bool\n",
       "dtype: object"
      ]
     },
     "execution_count": 7,
     "metadata": {},
     "output_type": "execute_result"
    }
   ],
   "source": [
    "df.dtypes #проверяем тип данных"
   ]
  },
  {
   "cell_type": "markdown",
   "metadata": {
    "colab_type": "text",
    "id": "kR0_MssXPPz2"
   },
   "source": [
    "Посмотрим как сбалансированны наши классы.\n",
    "\n",
    "Можно увидеть, что данные несбалансированны.\n"
   ]
  },
  {
   "cell_type": "code",
   "execution_count": 8,
   "metadata": {
    "colab": {
     "base_uri": "https://localhost:8080/",
     "height": 330
    },
    "colab_type": "code",
    "id": "ayH9vFNiuxDS",
    "outputId": "b6807c8c-10a2-479f-df95-02b79c295afc"
   },
   "outputs": [
    {
     "name": "stdout",
     "output_type": "stream",
     "text": [
      "False    2850\n",
      "True      483\n",
      "Name: churn, dtype: int64\n",
      "Процент данных показывающих целевую группу \"отток\" 0.14\n"
     ]
    },
    {
     "data": {
      "image/png": "[encoded data removed]",
      "text/plain": [
       "<Figure size 432x288 with 1 Axes>"
      ]
     },
     "metadata": {
      "needs_background": "light"
     },
     "output_type": "display_data"
    }
   ],
   "source": [
    "print(df[\"churn\"].value_counts())\n",
    "sns.barplot(df[\"churn\"].value_counts().index, df[\"churn\"].value_counts().values)\n",
    "print('Процент данных показывающих целевую группу \"отток\"', round(df[\"churn\"][df[\"churn\"] == True].shape[0]/len(df), 2))"
   ]
  },
  {
   "cell_type": "markdown",
   "metadata": {
    "colab_type": "text",
    "id": "4Id4rTSKVk5S"
   },
   "source": [
    "#### Работа с категориальными признаками"
   ]
  },
  {
   "cell_type": "code",
   "execution_count": 9,
   "metadata": {
    "colab": {
     "base_uri": "https://localhost:8080/",
     "height": 223
    },
    "colab_type": "code",
    "id": "S2GZ6PwbQ8TV",
    "outputId": "e9e21d2b-fdcd-4c10-d168-bdf883dc2277"
   },
   "outputs": [
    {
     "data": {
      "text/html": [
       "<div>\n",
       "<style scoped>\n",
       "    .dataframe tbody tr th:only-of-type {\n",
       "        vertical-align: middle;\n",
       "    }\n",
       "\n",
       "    .dataframe tbody tr th {\n",
       "        vertical-align: top;\n",
       "    }\n",
       "\n",
       "    .dataframe thead th {\n",
       "        text-align: right;\n",
       "    }\n",
       "</style>\n",
       "<table border=\"1\" class=\"dataframe\">\n",
       "  <thead>\n",
       "    <tr style=\"text-align: right;\">\n",
       "      <th></th>\n",
       "      <th>state</th>\n",
       "      <th>account length</th>\n",
       "      <th>area code</th>\n",
       "      <th>international plan</th>\n",
       "      <th>voice mail plan</th>\n",
       "      <th>number vmail messages</th>\n",
       "      <th>total day minutes</th>\n",
       "      <th>total day calls</th>\n",
       "      <th>total day charge</th>\n",
       "      <th>total eve minutes</th>\n",
       "      <th>total eve calls</th>\n",
       "      <th>total eve charge</th>\n",
       "      <th>total night minutes</th>\n",
       "      <th>total night calls</th>\n",
       "      <th>total night charge</th>\n",
       "      <th>total intl minutes</th>\n",
       "      <th>total intl calls</th>\n",
       "      <th>total intl charge</th>\n",
       "      <th>customer service calls</th>\n",
       "      <th>churn</th>\n",
       "    </tr>\n",
       "  </thead>\n",
       "  <tbody>\n",
       "    <tr>\n",
       "      <th>0</th>\n",
       "      <td>16</td>\n",
       "      <td>128</td>\n",
       "      <td>415</td>\n",
       "      <td>0</td>\n",
       "      <td>1</td>\n",
       "      <td>25</td>\n",
       "      <td>265.1</td>\n",
       "      <td>110</td>\n",
       "      <td>45.07</td>\n",
       "      <td>197.4</td>\n",
       "      <td>99</td>\n",
       "      <td>16.78</td>\n",
       "      <td>244.7</td>\n",
       "      <td>91</td>\n",
       "      <td>11.01</td>\n",
       "      <td>10.0</td>\n",
       "      <td>3</td>\n",
       "      <td>2.70</td>\n",
       "      <td>1</td>\n",
       "      <td>False</td>\n",
       "    </tr>\n",
       "    <tr>\n",
       "      <th>1</th>\n",
       "      <td>35</td>\n",
       "      <td>107</td>\n",
       "      <td>415</td>\n",
       "      <td>0</td>\n",
       "      <td>1</td>\n",
       "      <td>26</td>\n",
       "      <td>161.6</td>\n",
       "      <td>123</td>\n",
       "      <td>27.47</td>\n",
       "      <td>195.5</td>\n",
       "      <td>103</td>\n",
       "      <td>16.62</td>\n",
       "      <td>254.4</td>\n",
       "      <td>103</td>\n",
       "      <td>11.45</td>\n",
       "      <td>13.7</td>\n",
       "      <td>3</td>\n",
       "      <td>3.70</td>\n",
       "      <td>1</td>\n",
       "      <td>False</td>\n",
       "    </tr>\n",
       "    <tr>\n",
       "      <th>2</th>\n",
       "      <td>31</td>\n",
       "      <td>137</td>\n",
       "      <td>415</td>\n",
       "      <td>0</td>\n",
       "      <td>0</td>\n",
       "      <td>0</td>\n",
       "      <td>243.4</td>\n",
       "      <td>114</td>\n",
       "      <td>41.38</td>\n",
       "      <td>121.2</td>\n",
       "      <td>110</td>\n",
       "      <td>10.30</td>\n",
       "      <td>162.6</td>\n",
       "      <td>104</td>\n",
       "      <td>7.32</td>\n",
       "      <td>12.2</td>\n",
       "      <td>5</td>\n",
       "      <td>3.29</td>\n",
       "      <td>0</td>\n",
       "      <td>False</td>\n",
       "    </tr>\n",
       "    <tr>\n",
       "      <th>3</th>\n",
       "      <td>35</td>\n",
       "      <td>84</td>\n",
       "      <td>408</td>\n",
       "      <td>1</td>\n",
       "      <td>0</td>\n",
       "      <td>0</td>\n",
       "      <td>299.4</td>\n",
       "      <td>71</td>\n",
       "      <td>50.90</td>\n",
       "      <td>61.9</td>\n",
       "      <td>88</td>\n",
       "      <td>5.26</td>\n",
       "      <td>196.9</td>\n",
       "      <td>89</td>\n",
       "      <td>8.86</td>\n",
       "      <td>6.6</td>\n",
       "      <td>7</td>\n",
       "      <td>1.78</td>\n",
       "      <td>2</td>\n",
       "      <td>False</td>\n",
       "    </tr>\n",
       "    <tr>\n",
       "      <th>4</th>\n",
       "      <td>36</td>\n",
       "      <td>75</td>\n",
       "      <td>415</td>\n",
       "      <td>1</td>\n",
       "      <td>0</td>\n",
       "      <td>0</td>\n",
       "      <td>166.7</td>\n",
       "      <td>113</td>\n",
       "      <td>28.34</td>\n",
       "      <td>148.3</td>\n",
       "      <td>122</td>\n",
       "      <td>12.61</td>\n",
       "      <td>186.9</td>\n",
       "      <td>121</td>\n",
       "      <td>8.41</td>\n",
       "      <td>10.1</td>\n",
       "      <td>3</td>\n",
       "      <td>2.73</td>\n",
       "      <td>3</td>\n",
       "      <td>False</td>\n",
       "    </tr>\n",
       "  </tbody>\n",
       "</table>\n",
       "</div>"
      ],
      "text/plain": [
       "   state  account length  area code  international plan  voice mail plan  \\\n",
       "0     16             128        415                   0                1   \n",
       "1     35             107        415                   0                1   \n",
       "2     31             137        415                   0                0   \n",
       "3     35              84        408                   1                0   \n",
       "4     36              75        415                   1                0   \n",
       "\n",
       "   number vmail messages  total day minutes  total day calls  \\\n",
       "0                     25              265.1              110   \n",
       "1                     26              161.6              123   \n",
       "2                      0              243.4              114   \n",
       "3                      0              299.4               71   \n",
       "4                      0              166.7              113   \n",
       "\n",
       "   total day charge  total eve minutes  total eve calls  total eve charge  \\\n",
       "0             45.07              197.4               99             16.78   \n",
       "1             27.47              195.5              103             16.62   \n",
       "2             41.38              121.2              110             10.30   \n",
       "3             50.90               61.9               88              5.26   \n",
       "4             28.34              148.3              122             12.61   \n",
       "\n",
       "   total night minutes  total night calls  total night charge  \\\n",
       "0                244.7                 91               11.01   \n",
       "1                254.4                103               11.45   \n",
       "2                162.6                104                7.32   \n",
       "3                196.9                 89                8.86   \n",
       "4                186.9                121                8.41   \n",
       "\n",
       "   total intl minutes  total intl calls  total intl charge  \\\n",
       "0                10.0                 3               2.70   \n",
       "1                13.7                 3               3.70   \n",
       "2                12.2                 5               3.29   \n",
       "3                 6.6                 7               1.78   \n",
       "4                10.1                 3               2.73   \n",
       "\n",
       "   customer service calls  churn  \n",
       "0                       1  False  \n",
       "1                       1  False  \n",
       "2                       0  False  \n",
       "3                       2  False  \n",
       "4                       3  False  "
      ]
     },
     "execution_count": 9,
     "metadata": {},
     "output_type": "execute_result"
    }
   ],
   "source": [
    "# Подключаем класс для предобработки данных\n",
    "from sklearn import preprocessing\n",
    "# Напишем функцию, которая принимает на вход DataFrame, кодирует числовыми значениями категориальные признаки\n",
    "# и возвращает обновленный DataFrame и сами кодировщики.\n",
    "def number_encode_features(init_df):\n",
    "    result = init_df.copy() # копируем нашу исходную таблицу\n",
    "    encoders = {}\n",
    "    for column in result.columns:\n",
    "        if result.dtypes[column] == np.object: # np.object -- строковый тип / если тип столбца - строка, то нужно его закодировать\n",
    "            encoders[column] = preprocessing.LabelEncoder() # для колонки column создаем кодировщик\n",
    "            result[column] = encoders[column].fit_transform(result[column]) # применяем кодировщик к столбцу и перезаписываем столбец\n",
    "    return result, encoders\n",
    "\n",
    "encoded_data, encoders = number_encode_features(df) # Теперь encoded data содержит закодированные кат. признаки \n",
    "encoded_data.head() "
   ]
  },
  {
   "cell_type": "markdown",
   "metadata": {
    "colab_type": "text",
    "id": "y9Z644nIVR8j"
   },
   "source": [
    "Отобразим сами энкодеры"
   ]
  },
  {
   "cell_type": "code",
   "execution_count": 10,
   "metadata": {
    "colab": {
     "base_uri": "https://localhost:8080/",
     "height": 66
    },
    "colab_type": "code",
    "id": "fC-6lp9dRTxE",
    "outputId": "df710164-9ecf-4bd4-9def-5f0fb80bfaaf"
   },
   "outputs": [
    {
     "data": {
      "text/plain": [
       "{'state': LabelEncoder(),\n",
       " 'international plan': LabelEncoder(),\n",
       " 'voice mail plan': LabelEncoder()}"
      ]
     },
     "execution_count": 10,
     "metadata": {},
     "output_type": "execute_result"
    }
   ],
   "source": [
    "encoders"
   ]
  },
  {
   "cell_type": "markdown",
   "metadata": {
    "colab_type": "text",
    "id": "kCwHJLj3V28A"
   },
   "source": [
    "Выделим целевую переменную в бинарный формат и выкенем ее из обучающей выборки."
   ]
  },
  {
   "cell_type": "code",
   "execution_count": 11,
   "metadata": {
    "colab": {
     "base_uri": "https://localhost:8080/",
     "height": 272
    },
    "colab_type": "code",
    "id": "l_YJ8ZdubItr",
    "outputId": "a09da89f-5654-4845-fafe-bf81b71f856a"
   },
   "outputs": [
    {
     "name": "stdout",
     "output_type": "stream",
     "text": [
      "Ответы\n",
      " [0 0 0 ... 0 0 0]\n",
      "Обучающая выборка\n"
     ]
    },
    {
     "data": {
      "text/html": [
       "<div>\n",
       "<style scoped>\n",
       "    .dataframe tbody tr th:only-of-type {\n",
       "        vertical-align: middle;\n",
       "    }\n",
       "\n",
       "    .dataframe tbody tr th {\n",
       "        vertical-align: top;\n",
       "    }\n",
       "\n",
       "    .dataframe thead th {\n",
       "        text-align: right;\n",
       "    }\n",
       "</style>\n",
       "<table border=\"1\" class=\"dataframe\">\n",
       "  <thead>\n",
       "    <tr style=\"text-align: right;\">\n",
       "      <th></th>\n",
       "      <th>state</th>\n",
       "      <th>account length</th>\n",
       "      <th>area code</th>\n",
       "      <th>international plan</th>\n",
       "      <th>voice mail plan</th>\n",
       "      <th>number vmail messages</th>\n",
       "      <th>total day minutes</th>\n",
       "      <th>total day calls</th>\n",
       "      <th>total day charge</th>\n",
       "      <th>total eve minutes</th>\n",
       "      <th>total eve calls</th>\n",
       "      <th>total eve charge</th>\n",
       "      <th>total night minutes</th>\n",
       "      <th>total night calls</th>\n",
       "      <th>total night charge</th>\n",
       "      <th>total intl minutes</th>\n",
       "      <th>total intl calls</th>\n",
       "      <th>total intl charge</th>\n",
       "      <th>customer service calls</th>\n",
       "    </tr>\n",
       "  </thead>\n",
       "  <tbody>\n",
       "    <tr>\n",
       "      <th>0</th>\n",
       "      <td>16</td>\n",
       "      <td>128</td>\n",
       "      <td>415</td>\n",
       "      <td>0</td>\n",
       "      <td>1</td>\n",
       "      <td>25</td>\n",
       "      <td>265.1</td>\n",
       "      <td>110</td>\n",
       "      <td>45.07</td>\n",
       "      <td>197.4</td>\n",
       "      <td>99</td>\n",
       "      <td>16.78</td>\n",
       "      <td>244.7</td>\n",
       "      <td>91</td>\n",
       "      <td>11.01</td>\n",
       "      <td>10.0</td>\n",
       "      <td>3</td>\n",
       "      <td>2.70</td>\n",
       "      <td>1</td>\n",
       "    </tr>\n",
       "    <tr>\n",
       "      <th>1</th>\n",
       "      <td>35</td>\n",
       "      <td>107</td>\n",
       "      <td>415</td>\n",
       "      <td>0</td>\n",
       "      <td>1</td>\n",
       "      <td>26</td>\n",
       "      <td>161.6</td>\n",
       "      <td>123</td>\n",
       "      <td>27.47</td>\n",
       "      <td>195.5</td>\n",
       "      <td>103</td>\n",
       "      <td>16.62</td>\n",
       "      <td>254.4</td>\n",
       "      <td>103</td>\n",
       "      <td>11.45</td>\n",
       "      <td>13.7</td>\n",
       "      <td>3</td>\n",
       "      <td>3.70</td>\n",
       "      <td>1</td>\n",
       "    </tr>\n",
       "    <tr>\n",
       "      <th>2</th>\n",
       "      <td>31</td>\n",
       "      <td>137</td>\n",
       "      <td>415</td>\n",
       "      <td>0</td>\n",
       "      <td>0</td>\n",
       "      <td>0</td>\n",
       "      <td>243.4</td>\n",
       "      <td>114</td>\n",
       "      <td>41.38</td>\n",
       "      <td>121.2</td>\n",
       "      <td>110</td>\n",
       "      <td>10.30</td>\n",
       "      <td>162.6</td>\n",
       "      <td>104</td>\n",
       "      <td>7.32</td>\n",
       "      <td>12.2</td>\n",
       "      <td>5</td>\n",
       "      <td>3.29</td>\n",
       "      <td>0</td>\n",
       "    </tr>\n",
       "    <tr>\n",
       "      <th>3</th>\n",
       "      <td>35</td>\n",
       "      <td>84</td>\n",
       "      <td>408</td>\n",
       "      <td>1</td>\n",
       "      <td>0</td>\n",
       "      <td>0</td>\n",
       "      <td>299.4</td>\n",
       "      <td>71</td>\n",
       "      <td>50.90</td>\n",
       "      <td>61.9</td>\n",
       "      <td>88</td>\n",
       "      <td>5.26</td>\n",
       "      <td>196.9</td>\n",
       "      <td>89</td>\n",
       "      <td>8.86</td>\n",
       "      <td>6.6</td>\n",
       "      <td>7</td>\n",
       "      <td>1.78</td>\n",
       "      <td>2</td>\n",
       "    </tr>\n",
       "    <tr>\n",
       "      <th>4</th>\n",
       "      <td>36</td>\n",
       "      <td>75</td>\n",
       "      <td>415</td>\n",
       "      <td>1</td>\n",
       "      <td>0</td>\n",
       "      <td>0</td>\n",
       "      <td>166.7</td>\n",
       "      <td>113</td>\n",
       "      <td>28.34</td>\n",
       "      <td>148.3</td>\n",
       "      <td>122</td>\n",
       "      <td>12.61</td>\n",
       "      <td>186.9</td>\n",
       "      <td>121</td>\n",
       "      <td>8.41</td>\n",
       "      <td>10.1</td>\n",
       "      <td>3</td>\n",
       "      <td>2.73</td>\n",
       "      <td>3</td>\n",
       "    </tr>\n",
       "  </tbody>\n",
       "</table>\n",
       "</div>"
      ],
      "text/plain": [
       "   state  account length  area code  international plan  voice mail plan  \\\n",
       "0     16             128        415                   0                1   \n",
       "1     35             107        415                   0                1   \n",
       "2     31             137        415                   0                0   \n",
       "3     35              84        408                   1                0   \n",
       "4     36              75        415                   1                0   \n",
       "\n",
       "   number vmail messages  total day minutes  total day calls  \\\n",
       "0                     25              265.1              110   \n",
       "1                     26              161.6              123   \n",
       "2                      0              243.4              114   \n",
       "3                      0              299.4               71   \n",
       "4                      0              166.7              113   \n",
       "\n",
       "   total day charge  total eve minutes  total eve calls  total eve charge  \\\n",
       "0             45.07              197.4               99             16.78   \n",
       "1             27.47              195.5              103             16.62   \n",
       "2             41.38              121.2              110             10.30   \n",
       "3             50.90               61.9               88              5.26   \n",
       "4             28.34              148.3              122             12.61   \n",
       "\n",
       "   total night minutes  total night calls  total night charge  \\\n",
       "0                244.7                 91               11.01   \n",
       "1                254.4                103               11.45   \n",
       "2                162.6                104                7.32   \n",
       "3                196.9                 89                8.86   \n",
       "4                186.9                121                8.41   \n",
       "\n",
       "   total intl minutes  total intl calls  total intl charge  \\\n",
       "0                10.0                 3               2.70   \n",
       "1                13.7                 3               3.70   \n",
       "2                12.2                 5               3.29   \n",
       "3                 6.6                 7               1.78   \n",
       "4                10.1                 3               2.73   \n",
       "\n",
       "   customer service calls  \n",
       "0                       1  \n",
       "1                       1  \n",
       "2                       0  \n",
       "3                       2  \n",
       "4                       3  "
      ]
     },
     "execution_count": 11,
     "metadata": {},
     "output_type": "execute_result"
    }
   ],
   "source": [
    "y = encoded_data['churn'].map({True: 1, False: 0}).values\n",
    "encoded_data.drop(['churn'], axis = 1, inplace=True)\n",
    "print('Ответы\\n',y)\n",
    "print('Обучающая выборка')\n",
    "encoded_data.head()"
   ]
  },
  {
   "cell_type": "markdown",
   "metadata": {
    "colab_type": "text",
    "id": "RXTrWXnzZBTm"
   },
   "source": [
    "Посмотрим на распределение велечин по признакам в наших данных"
   ]
  },
  {
   "cell_type": "code",
   "execution_count": 12,
   "metadata": {
    "colab": {
     "base_uri": "https://localhost:8080/",
     "height": 840
    },
    "colab_type": "code",
    "id": "ECzCn8EN1Le6",
    "outputId": "5fb7c809-d9c3-4a66-8fe6-df7424173b5b"
   },
   "outputs": [
    {
     "data": {
      "text/plain": [
       "array([[<matplotlib.axes._subplots.AxesSubplot object at 0x7fa8c51ca240>,\n",
       "        <matplotlib.axes._subplots.AxesSubplot object at 0x7fa8c517d748>,\n",
       "        <matplotlib.axes._subplots.AxesSubplot object at 0x7fa8c51adcf8>,\n",
       "        <matplotlib.axes._subplots.AxesSubplot object at 0x7fa8c516a2e8>],\n",
       "       [<matplotlib.axes._subplots.AxesSubplot object at 0x7fa8c511b898>,\n",
       "        <matplotlib.axes._subplots.AxesSubplot object at 0x7fa8c50cde10>,\n",
       "        <matplotlib.axes._subplots.AxesSubplot object at 0x7fa8c508b400>,\n",
       "        <matplotlib.axes._subplots.AxesSubplot object at 0x7fa8c503c9e8>],\n",
       "       [<matplotlib.axes._subplots.AxesSubplot object at 0x7fa8c503ca20>,\n",
       "        <matplotlib.axes._subplots.AxesSubplot object at 0x7fa8c5029550>,\n",
       "        <matplotlib.axes._subplots.AxesSubplot object at 0x7fa8c4fdcb00>,\n",
       "        <matplotlib.axes._subplots.AxesSubplot object at 0x7fa8c4f9a0f0>],\n",
       "       [<matplotlib.axes._subplots.AxesSubplot object at 0x7fa8c4f4a6a0>,\n",
       "        <matplotlib.axes._subplots.AxesSubplot object at 0x7fa8c4efdc50>,\n",
       "        <matplotlib.axes._subplots.AxesSubplot object at 0x7fa8c4ebb240>,\n",
       "        <matplotlib.axes._subplots.AxesSubplot object at 0x7fa8c4ee97f0>],\n",
       "       [<matplotlib.axes._subplots.AxesSubplot object at 0x7fa8c4e9cda0>,\n",
       "        <matplotlib.axes._subplots.AxesSubplot object at 0x7fa8c4e5b390>,\n",
       "        <matplotlib.axes._subplots.AxesSubplot object at 0x7fa8c4e08940>,\n",
       "        <matplotlib.axes._subplots.AxesSubplot object at 0x7fa8c4dbcef0>]],\n",
       "      dtype=object)"
      ]
     },
     "execution_count": 12,
     "metadata": {},
     "output_type": "execute_result"
    },
    {
     "data": {
      "image/png": "[encoded data removed]",
      "text/plain": [
       "<Figure size 1296x576 with 20 Axes>"
      ]
     },
     "metadata": {
      "needs_background": "light"
     },
     "output_type": "display_data"
    }
   ],
   "source": [
    "encoded_data.hist(figsize=(18, 8), layout=(5,4), bins=20)"
   ]
  },
  {
   "cell_type": "markdown",
   "metadata": {
    "colab_type": "text",
    "id": "24PuLGTDaAa0"
   },
   "source": [
    "Посмтроим матрицу корреляций, выбросим данные с единичной линейной зависимостью - они (шум) просто повысят вычислительную сложность."
   ]
  },
  {
   "cell_type": "code",
   "execution_count": 13,
   "metadata": {
    "colab": {
     "base_uri": "https://localhost:8080/",
     "height": 870
    },
    "colab_type": "code",
    "id": "OAp8YcMjWC-P",
    "outputId": "09ca80ce-3e3b-45c9-e18e-96fed45be265"
   },
   "outputs": [
    {
     "data": {
      "text/html": [
       "<div>\n",
       "<style scoped>\n",
       "    .dataframe tbody tr th:only-of-type {\n",
       "        vertical-align: middle;\n",
       "    }\n",
       "\n",
       "    .dataframe tbody tr th {\n",
       "        vertical-align: top;\n",
       "    }\n",
       "\n",
       "    .dataframe thead th {\n",
       "        text-align: right;\n",
       "    }\n",
       "</style>\n",
       "<table border=\"1\" class=\"dataframe\">\n",
       "  <thead>\n",
       "    <tr style=\"text-align: right;\">\n",
       "      <th></th>\n",
       "      <th>state</th>\n",
       "      <th>account length</th>\n",
       "      <th>area code</th>\n",
       "      <th>international plan</th>\n",
       "      <th>voice mail plan</th>\n",
       "      <th>number vmail messages</th>\n",
       "      <th>total day minutes</th>\n",
       "      <th>total day calls</th>\n",
       "      <th>total day charge</th>\n",
       "      <th>total eve minutes</th>\n",
       "      <th>total eve calls</th>\n",
       "      <th>total eve charge</th>\n",
       "      <th>total night minutes</th>\n",
       "      <th>total night calls</th>\n",
       "      <th>total night charge</th>\n",
       "      <th>total intl minutes</th>\n",
       "      <th>total intl calls</th>\n",
       "      <th>total intl charge</th>\n",
       "      <th>customer service calls</th>\n",
       "    </tr>\n",
       "  </thead>\n",
       "  <tbody>\n",
       "    <tr>\n",
       "      <th>state</th>\n",
       "      <td>1.000000</td>\n",
       "      <td>0.003678</td>\n",
       "      <td>0.015814</td>\n",
       "      <td>-0.004597</td>\n",
       "      <td>-0.031664</td>\n",
       "      <td>-0.027762</td>\n",
       "      <td>-0.006737</td>\n",
       "      <td>-0.000764</td>\n",
       "      <td>-0.006736</td>\n",
       "      <td>0.013682</td>\n",
       "      <td>-0.016268</td>\n",
       "      <td>0.013674</td>\n",
       "      <td>0.024576</td>\n",
       "      <td>0.007458</td>\n",
       "      <td>0.024572</td>\n",
       "      <td>-0.007834</td>\n",
       "      <td>0.013967</td>\n",
       "      <td>-0.007819</td>\n",
       "      <td>-0.025861</td>\n",
       "    </tr>\n",
       "    <tr>\n",
       "      <th>account length</th>\n",
       "      <td>0.003678</td>\n",
       "      <td>1.000000</td>\n",
       "      <td>-0.012463</td>\n",
       "      <td>0.024735</td>\n",
       "      <td>0.002918</td>\n",
       "      <td>-0.004628</td>\n",
       "      <td>0.006216</td>\n",
       "      <td>0.038470</td>\n",
       "      <td>0.006214</td>\n",
       "      <td>-0.006757</td>\n",
       "      <td>0.019260</td>\n",
       "      <td>-0.006745</td>\n",
       "      <td>-0.008955</td>\n",
       "      <td>-0.013176</td>\n",
       "      <td>-0.008960</td>\n",
       "      <td>0.009514</td>\n",
       "      <td>0.020661</td>\n",
       "      <td>0.009546</td>\n",
       "      <td>-0.003796</td>\n",
       "    </tr>\n",
       "    <tr>\n",
       "      <th>area code</th>\n",
       "      <td>0.015814</td>\n",
       "      <td>-0.012463</td>\n",
       "      <td>1.000000</td>\n",
       "      <td>0.048551</td>\n",
       "      <td>-0.000747</td>\n",
       "      <td>-0.001994</td>\n",
       "      <td>-0.008264</td>\n",
       "      <td>-0.009646</td>\n",
       "      <td>-0.008264</td>\n",
       "      <td>0.003580</td>\n",
       "      <td>-0.011886</td>\n",
       "      <td>0.003607</td>\n",
       "      <td>-0.005825</td>\n",
       "      <td>0.016522</td>\n",
       "      <td>-0.005845</td>\n",
       "      <td>-0.018288</td>\n",
       "      <td>-0.024179</td>\n",
       "      <td>-0.018395</td>\n",
       "      <td>0.027572</td>\n",
       "    </tr>\n",
       "    <tr>\n",
       "      <th>international plan</th>\n",
       "      <td>-0.004597</td>\n",
       "      <td>0.024735</td>\n",
       "      <td>0.048551</td>\n",
       "      <td>1.000000</td>\n",
       "      <td>0.006006</td>\n",
       "      <td>0.008745</td>\n",
       "      <td>0.049396</td>\n",
       "      <td>0.003755</td>\n",
       "      <td>0.049398</td>\n",
       "      <td>0.019100</td>\n",
       "      <td>0.006114</td>\n",
       "      <td>0.019106</td>\n",
       "      <td>-0.028905</td>\n",
       "      <td>0.012451</td>\n",
       "      <td>-0.028913</td>\n",
       "      <td>0.045871</td>\n",
       "      <td>0.017366</td>\n",
       "      <td>0.045780</td>\n",
       "      <td>-0.024522</td>\n",
       "    </tr>\n",
       "    <tr>\n",
       "      <th>voice mail plan</th>\n",
       "      <td>-0.031664</td>\n",
       "      <td>0.002918</td>\n",
       "      <td>-0.000747</td>\n",
       "      <td>0.006006</td>\n",
       "      <td>1.000000</td>\n",
       "      <td>0.956927</td>\n",
       "      <td>-0.001684</td>\n",
       "      <td>-0.011086</td>\n",
       "      <td>-0.001686</td>\n",
       "      <td>0.021545</td>\n",
       "      <td>-0.006444</td>\n",
       "      <td>0.021559</td>\n",
       "      <td>0.006079</td>\n",
       "      <td>0.015553</td>\n",
       "      <td>0.006064</td>\n",
       "      <td>-0.001318</td>\n",
       "      <td>0.007618</td>\n",
       "      <td>-0.001276</td>\n",
       "      <td>-0.017824</td>\n",
       "    </tr>\n",
       "    <tr>\n",
       "      <th>number vmail messages</th>\n",
       "      <td>-0.027762</td>\n",
       "      <td>-0.004628</td>\n",
       "      <td>-0.001994</td>\n",
       "      <td>0.008745</td>\n",
       "      <td>0.956927</td>\n",
       "      <td>1.000000</td>\n",
       "      <td>0.000778</td>\n",
       "      <td>-0.009548</td>\n",
       "      <td>0.000776</td>\n",
       "      <td>0.017562</td>\n",
       "      <td>-0.005864</td>\n",
       "      <td>0.017578</td>\n",
       "      <td>0.007681</td>\n",
       "      <td>0.007123</td>\n",
       "      <td>0.007663</td>\n",
       "      <td>0.002856</td>\n",
       "      <td>0.013957</td>\n",
       "      <td>0.002884</td>\n",
       "      <td>-0.013263</td>\n",
       "    </tr>\n",
       "    <tr>\n",
       "      <th>total day minutes</th>\n",
       "      <td>-0.006737</td>\n",
       "      <td>0.006216</td>\n",
       "      <td>-0.008264</td>\n",
       "      <td>0.049396</td>\n",
       "      <td>-0.001684</td>\n",
       "      <td>0.000778</td>\n",
       "      <td>1.000000</td>\n",
       "      <td>0.006750</td>\n",
       "      <td>1.000000</td>\n",
       "      <td>0.007043</td>\n",
       "      <td>0.015769</td>\n",
       "      <td>0.007029</td>\n",
       "      <td>0.004323</td>\n",
       "      <td>0.022972</td>\n",
       "      <td>0.004300</td>\n",
       "      <td>-0.010155</td>\n",
       "      <td>0.008033</td>\n",
       "      <td>-0.010092</td>\n",
       "      <td>-0.013423</td>\n",
       "    </tr>\n",
       "    <tr>\n",
       "      <th>total day calls</th>\n",
       "      <td>-0.000764</td>\n",
       "      <td>0.038470</td>\n",
       "      <td>-0.009646</td>\n",
       "      <td>0.003755</td>\n",
       "      <td>-0.011086</td>\n",
       "      <td>-0.009548</td>\n",
       "      <td>0.006750</td>\n",
       "      <td>1.000000</td>\n",
       "      <td>0.006753</td>\n",
       "      <td>-0.021451</td>\n",
       "      <td>0.006462</td>\n",
       "      <td>-0.021449</td>\n",
       "      <td>0.022938</td>\n",
       "      <td>-0.019557</td>\n",
       "      <td>0.022927</td>\n",
       "      <td>0.021565</td>\n",
       "      <td>0.004574</td>\n",
       "      <td>0.021666</td>\n",
       "      <td>-0.018942</td>\n",
       "    </tr>\n",
       "    <tr>\n",
       "      <th>total day charge</th>\n",
       "      <td>-0.006736</td>\n",
       "      <td>0.006214</td>\n",
       "      <td>-0.008264</td>\n",
       "      <td>0.049398</td>\n",
       "      <td>-0.001686</td>\n",
       "      <td>0.000776</td>\n",
       "      <td>1.000000</td>\n",
       "      <td>0.006753</td>\n",
       "      <td>1.000000</td>\n",
       "      <td>0.007050</td>\n",
       "      <td>0.015769</td>\n",
       "      <td>0.007036</td>\n",
       "      <td>0.004324</td>\n",
       "      <td>0.022972</td>\n",
       "      <td>0.004301</td>\n",
       "      <td>-0.010157</td>\n",
       "      <td>0.008032</td>\n",
       "      <td>-0.010094</td>\n",
       "      <td>-0.013427</td>\n",
       "    </tr>\n",
       "    <tr>\n",
       "      <th>total eve minutes</th>\n",
       "      <td>0.013682</td>\n",
       "      <td>-0.006757</td>\n",
       "      <td>0.003580</td>\n",
       "      <td>0.019100</td>\n",
       "      <td>0.021545</td>\n",
       "      <td>0.017562</td>\n",
       "      <td>0.007043</td>\n",
       "      <td>-0.021451</td>\n",
       "      <td>0.007050</td>\n",
       "      <td>1.000000</td>\n",
       "      <td>-0.011430</td>\n",
       "      <td>1.000000</td>\n",
       "      <td>-0.012584</td>\n",
       "      <td>0.007586</td>\n",
       "      <td>-0.012593</td>\n",
       "      <td>-0.011035</td>\n",
       "      <td>0.002541</td>\n",
       "      <td>-0.011067</td>\n",
       "      <td>-0.012985</td>\n",
       "    </tr>\n",
       "    <tr>\n",
       "      <th>total eve calls</th>\n",
       "      <td>-0.016268</td>\n",
       "      <td>0.019260</td>\n",
       "      <td>-0.011886</td>\n",
       "      <td>0.006114</td>\n",
       "      <td>-0.006444</td>\n",
       "      <td>-0.005864</td>\n",
       "      <td>0.015769</td>\n",
       "      <td>0.006462</td>\n",
       "      <td>0.015769</td>\n",
       "      <td>-0.011430</td>\n",
       "      <td>1.000000</td>\n",
       "      <td>-0.011423</td>\n",
       "      <td>-0.002093</td>\n",
       "      <td>0.007710</td>\n",
       "      <td>-0.002056</td>\n",
       "      <td>0.008703</td>\n",
       "      <td>0.017434</td>\n",
       "      <td>0.008674</td>\n",
       "      <td>0.002423</td>\n",
       "    </tr>\n",
       "    <tr>\n",
       "      <th>total eve charge</th>\n",
       "      <td>0.013674</td>\n",
       "      <td>-0.006745</td>\n",
       "      <td>0.003607</td>\n",
       "      <td>0.019106</td>\n",
       "      <td>0.021559</td>\n",
       "      <td>0.017578</td>\n",
       "      <td>0.007029</td>\n",
       "      <td>-0.021449</td>\n",
       "      <td>0.007036</td>\n",
       "      <td>1.000000</td>\n",
       "      <td>-0.011423</td>\n",
       "      <td>1.000000</td>\n",
       "      <td>-0.012592</td>\n",
       "      <td>0.007596</td>\n",
       "      <td>-0.012601</td>\n",
       "      <td>-0.011043</td>\n",
       "      <td>0.002541</td>\n",
       "      <td>-0.011074</td>\n",
       "      <td>-0.012987</td>\n",
       "    </tr>\n",
       "    <tr>\n",
       "      <th>total night minutes</th>\n",
       "      <td>0.024576</td>\n",
       "      <td>-0.008955</td>\n",
       "      <td>-0.005825</td>\n",
       "      <td>-0.028905</td>\n",
       "      <td>0.006079</td>\n",
       "      <td>0.007681</td>\n",
       "      <td>0.004323</td>\n",
       "      <td>0.022938</td>\n",
       "      <td>0.004324</td>\n",
       "      <td>-0.012584</td>\n",
       "      <td>-0.002093</td>\n",
       "      <td>-0.012592</td>\n",
       "      <td>1.000000</td>\n",
       "      <td>0.011204</td>\n",
       "      <td>0.999999</td>\n",
       "      <td>-0.015207</td>\n",
       "      <td>-0.012353</td>\n",
       "      <td>-0.015180</td>\n",
       "      <td>-0.009288</td>\n",
       "    </tr>\n",
       "    <tr>\n",
       "      <th>total night calls</th>\n",
       "      <td>0.007458</td>\n",
       "      <td>-0.013176</td>\n",
       "      <td>0.016522</td>\n",
       "      <td>0.012451</td>\n",
       "      <td>0.015553</td>\n",
       "      <td>0.007123</td>\n",
       "      <td>0.022972</td>\n",
       "      <td>-0.019557</td>\n",
       "      <td>0.022972</td>\n",
       "      <td>0.007586</td>\n",
       "      <td>0.007710</td>\n",
       "      <td>0.007596</td>\n",
       "      <td>0.011204</td>\n",
       "      <td>1.000000</td>\n",
       "      <td>0.011188</td>\n",
       "      <td>-0.013605</td>\n",
       "      <td>0.000305</td>\n",
       "      <td>-0.013630</td>\n",
       "      <td>-0.012802</td>\n",
       "    </tr>\n",
       "    <tr>\n",
       "      <th>total night charge</th>\n",
       "      <td>0.024572</td>\n",
       "      <td>-0.008960</td>\n",
       "      <td>-0.005845</td>\n",
       "      <td>-0.028913</td>\n",
       "      <td>0.006064</td>\n",
       "      <td>0.007663</td>\n",
       "      <td>0.004300</td>\n",
       "      <td>0.022927</td>\n",
       "      <td>0.004301</td>\n",
       "      <td>-0.012593</td>\n",
       "      <td>-0.002056</td>\n",
       "      <td>-0.012601</td>\n",
       "      <td>0.999999</td>\n",
       "      <td>0.011188</td>\n",
       "      <td>1.000000</td>\n",
       "      <td>-0.015214</td>\n",
       "      <td>-0.012329</td>\n",
       "      <td>-0.015186</td>\n",
       "      <td>-0.009277</td>\n",
       "    </tr>\n",
       "    <tr>\n",
       "      <th>total intl minutes</th>\n",
       "      <td>-0.007834</td>\n",
       "      <td>0.009514</td>\n",
       "      <td>-0.018288</td>\n",
       "      <td>0.045871</td>\n",
       "      <td>-0.001318</td>\n",
       "      <td>0.002856</td>\n",
       "      <td>-0.010155</td>\n",
       "      <td>0.021565</td>\n",
       "      <td>-0.010157</td>\n",
       "      <td>-0.011035</td>\n",
       "      <td>0.008703</td>\n",
       "      <td>-0.011043</td>\n",
       "      <td>-0.015207</td>\n",
       "      <td>-0.013605</td>\n",
       "      <td>-0.015214</td>\n",
       "      <td>1.000000</td>\n",
       "      <td>0.032304</td>\n",
       "      <td>0.999993</td>\n",
       "      <td>-0.009640</td>\n",
       "    </tr>\n",
       "    <tr>\n",
       "      <th>total intl calls</th>\n",
       "      <td>0.013967</td>\n",
       "      <td>0.020661</td>\n",
       "      <td>-0.024179</td>\n",
       "      <td>0.017366</td>\n",
       "      <td>0.007618</td>\n",
       "      <td>0.013957</td>\n",
       "      <td>0.008033</td>\n",
       "      <td>0.004574</td>\n",
       "      <td>0.008032</td>\n",
       "      <td>0.002541</td>\n",
       "      <td>0.017434</td>\n",
       "      <td>0.002541</td>\n",
       "      <td>-0.012353</td>\n",
       "      <td>0.000305</td>\n",
       "      <td>-0.012329</td>\n",
       "      <td>0.032304</td>\n",
       "      <td>1.000000</td>\n",
       "      <td>0.032372</td>\n",
       "      <td>-0.017561</td>\n",
       "    </tr>\n",
       "    <tr>\n",
       "      <th>total intl charge</th>\n",
       "      <td>-0.007819</td>\n",
       "      <td>0.009546</td>\n",
       "      <td>-0.018395</td>\n",
       "      <td>0.045780</td>\n",
       "      <td>-0.001276</td>\n",
       "      <td>0.002884</td>\n",
       "      <td>-0.010092</td>\n",
       "      <td>0.021666</td>\n",
       "      <td>-0.010094</td>\n",
       "      <td>-0.011067</td>\n",
       "      <td>0.008674</td>\n",
       "      <td>-0.011074</td>\n",
       "      <td>-0.015180</td>\n",
       "      <td>-0.013630</td>\n",
       "      <td>-0.015186</td>\n",
       "      <td>0.999993</td>\n",
       "      <td>0.032372</td>\n",
       "      <td>1.000000</td>\n",
       "      <td>-0.009675</td>\n",
       "    </tr>\n",
       "    <tr>\n",
       "      <th>customer service calls</th>\n",
       "      <td>-0.025861</td>\n",
       "      <td>-0.003796</td>\n",
       "      <td>0.027572</td>\n",
       "      <td>-0.024522</td>\n",
       "      <td>-0.017824</td>\n",
       "      <td>-0.013263</td>\n",
       "      <td>-0.013423</td>\n",
       "      <td>-0.018942</td>\n",
       "      <td>-0.013427</td>\n",
       "      <td>-0.012985</td>\n",
       "      <td>0.002423</td>\n",
       "      <td>-0.012987</td>\n",
       "      <td>-0.009288</td>\n",
       "      <td>-0.012802</td>\n",
       "      <td>-0.009277</td>\n",
       "      <td>-0.009640</td>\n",
       "      <td>-0.017561</td>\n",
       "      <td>-0.009675</td>\n",
       "      <td>1.000000</td>\n",
       "    </tr>\n",
       "  </tbody>\n",
       "</table>\n",
       "</div>"
      ],
      "text/plain": [
       "                           state  account length  area code  \\\n",
       "state                   1.000000        0.003678   0.015814   \n",
       "account length          0.003678        1.000000  -0.012463   \n",
       "area code               0.015814       -0.012463   1.000000   \n",
       "international plan     -0.004597        0.024735   0.048551   \n",
       "voice mail plan        -0.031664        0.002918  -0.000747   \n",
       "number vmail messages  -0.027762       -0.004628  -0.001994   \n",
       "total day minutes      -0.006737        0.006216  -0.008264   \n",
       "total day calls        -0.000764        0.038470  -0.009646   \n",
       "total day charge       -0.006736        0.006214  -0.008264   \n",
       "total eve minutes       0.013682       -0.006757   0.003580   \n",
       "total eve calls        -0.016268        0.019260  -0.011886   \n",
       "total eve charge        0.013674       -0.006745   0.003607   \n",
       "total night minutes     0.024576       -0.008955  -0.005825   \n",
       "total night calls       0.007458       -0.013176   0.016522   \n",
       "total night charge      0.024572       -0.008960  -0.005845   \n",
       "total intl minutes     -0.007834        0.009514  -0.018288   \n",
       "total intl calls        0.013967        0.020661  -0.024179   \n",
       "total intl charge      -0.007819        0.009546  -0.018395   \n",
       "customer service calls -0.025861       -0.003796   0.027572   \n",
       "\n",
       "                        international plan  voice mail plan  \\\n",
       "state                            -0.004597        -0.031664   \n",
       "account length                    0.024735         0.002918   \n",
       "area code                         0.048551        -0.000747   \n",
       "international plan                1.000000         0.006006   \n",
       "voice mail plan                   0.006006         1.000000   \n",
       "number vmail messages             0.008745         0.956927   \n",
       "total day minutes                 0.049396        -0.001684   \n",
       "total day calls                   0.003755        -0.011086   \n",
       "total day charge                  0.049398        -0.001686   \n",
       "total eve minutes                 0.019100         0.021545   \n",
       "total eve calls                   0.006114        -0.006444   \n",
       "total eve charge                  0.019106         0.021559   \n",
       "total night minutes              -0.028905         0.006079   \n",
       "total night calls                 0.012451         0.015553   \n",
       "total night charge               -0.028913         0.006064   \n",
       "total intl minutes                0.045871        -0.001318   \n",
       "total intl calls                  0.017366         0.007618   \n",
       "total intl charge                 0.045780        -0.001276   \n",
       "customer service calls           -0.024522        -0.017824   \n",
       "\n",
       "                        number vmail messages  total day minutes  \\\n",
       "state                               -0.027762          -0.006737   \n",
       "account length                      -0.004628           0.006216   \n",
       "area code                           -0.001994          -0.008264   \n",
       "international plan                   0.008745           0.049396   \n",
       "voice mail plan                      0.956927          -0.001684   \n",
       "number vmail messages                1.000000           0.000778   \n",
       "total day minutes                    0.000778           1.000000   \n",
       "total day calls                     -0.009548           0.006750   \n",
       "total day charge                     0.000776           1.000000   \n",
       "total eve minutes                    0.017562           0.007043   \n",
       "total eve calls                     -0.005864           0.015769   \n",
       "total eve charge                     0.017578           0.007029   \n",
       "total night minutes                  0.007681           0.004323   \n",
       "total night calls                    0.007123           0.022972   \n",
       "total night charge                   0.007663           0.004300   \n",
       "total intl minutes                   0.002856          -0.010155   \n",
       "total intl calls                     0.013957           0.008033   \n",
       "total intl charge                    0.002884          -0.010092   \n",
       "customer service calls              -0.013263          -0.013423   \n",
       "\n",
       "                        total day calls  total day charge  total eve minutes  \\\n",
       "state                         -0.000764         -0.006736           0.013682   \n",
       "account length                 0.038470          0.006214          -0.006757   \n",
       "area code                     -0.009646         -0.008264           0.003580   \n",
       "international plan             0.003755          0.049398           0.019100   \n",
       "voice mail plan               -0.011086         -0.001686           0.021545   \n",
       "number vmail messages         -0.009548          0.000776           0.017562   \n",
       "total day minutes              0.006750          1.000000           0.007043   \n",
       "total day calls                1.000000          0.006753          -0.021451   \n",
       "total day charge               0.006753          1.000000           0.007050   \n",
       "total eve minutes             -0.021451          0.007050           1.000000   \n",
       "total eve calls                0.006462          0.015769          -0.011430   \n",
       "total eve charge              -0.021449          0.007036           1.000000   \n",
       "total night minutes            0.022938          0.004324          -0.012584   \n",
       "total night calls             -0.019557          0.022972           0.007586   \n",
       "total night charge             0.022927          0.004301          -0.012593   \n",
       "total intl minutes             0.021565         -0.010157          -0.011035   \n",
       "total intl calls               0.004574          0.008032           0.002541   \n",
       "total intl charge              0.021666         -0.010094          -0.011067   \n",
       "customer service calls        -0.018942         -0.013427          -0.012985   \n",
       "\n",
       "                        total eve calls  total eve charge  \\\n",
       "state                         -0.016268          0.013674   \n",
       "account length                 0.019260         -0.006745   \n",
       "area code                     -0.011886          0.003607   \n",
       "international plan             0.006114          0.019106   \n",
       "voice mail plan               -0.006444          0.021559   \n",
       "number vmail messages         -0.005864          0.017578   \n",
       "total day minutes              0.015769          0.007029   \n",
       "total day calls                0.006462         -0.021449   \n",
       "total day charge               0.015769          0.007036   \n",
       "total eve minutes             -0.011430          1.000000   \n",
       "total eve calls                1.000000         -0.011423   \n",
       "total eve charge              -0.011423          1.000000   \n",
       "total night minutes           -0.002093         -0.012592   \n",
       "total night calls              0.007710          0.007596   \n",
       "total night charge            -0.002056         -0.012601   \n",
       "total intl minutes             0.008703         -0.011043   \n",
       "total intl calls               0.017434          0.002541   \n",
       "total intl charge              0.008674         -0.011074   \n",
       "customer service calls         0.002423         -0.012987   \n",
       "\n",
       "                        total night minutes  total night calls  \\\n",
       "state                              0.024576           0.007458   \n",
       "account length                    -0.008955          -0.013176   \n",
       "area code                         -0.005825           0.016522   \n",
       "international plan                -0.028905           0.012451   \n",
       "voice mail plan                    0.006079           0.015553   \n",
       "number vmail messages              0.007681           0.007123   \n",
       "total day minutes                  0.004323           0.022972   \n",
       "total day calls                    0.022938          -0.019557   \n",
       "total day charge                   0.004324           0.022972   \n",
       "total eve minutes                 -0.012584           0.007586   \n",
       "total eve calls                   -0.002093           0.007710   \n",
       "total eve charge                  -0.012592           0.007596   \n",
       "total night minutes                1.000000           0.011204   \n",
       "total night calls                  0.011204           1.000000   \n",
       "total night charge                 0.999999           0.011188   \n",
       "total intl minutes                -0.015207          -0.013605   \n",
       "total intl calls                  -0.012353           0.000305   \n",
       "total intl charge                 -0.015180          -0.013630   \n",
       "customer service calls            -0.009288          -0.012802   \n",
       "\n",
       "                        total night charge  total intl minutes  \\\n",
       "state                             0.024572           -0.007834   \n",
       "account length                   -0.008960            0.009514   \n",
       "area code                        -0.005845           -0.018288   \n",
       "international plan               -0.028913            0.045871   \n",
       "voice mail plan                   0.006064           -0.001318   \n",
       "number vmail messages             0.007663            0.002856   \n",
       "total day minutes                 0.004300           -0.010155   \n",
       "total day calls                   0.022927            0.021565   \n",
       "total day charge                  0.004301           -0.010157   \n",
       "total eve minutes                -0.012593           -0.011035   \n",
       "total eve calls                  -0.002056            0.008703   \n",
       "total eve charge                 -0.012601           -0.011043   \n",
       "total night minutes               0.999999           -0.015207   \n",
       "total night calls                 0.011188           -0.013605   \n",
       "total night charge                1.000000           -0.015214   \n",
       "total intl minutes               -0.015214            1.000000   \n",
       "total intl calls                 -0.012329            0.032304   \n",
       "total intl charge                -0.015186            0.999993   \n",
       "customer service calls           -0.009277           -0.009640   \n",
       "\n",
       "                        total intl calls  total intl charge  \\\n",
       "state                           0.013967          -0.007819   \n",
       "account length                  0.020661           0.009546   \n",
       "area code                      -0.024179          -0.018395   \n",
       "international plan              0.017366           0.045780   \n",
       "voice mail plan                 0.007618          -0.001276   \n",
       "number vmail messages           0.013957           0.002884   \n",
       "total day minutes               0.008033          -0.010092   \n",
       "total day calls                 0.004574           0.021666   \n",
       "total day charge                0.008032          -0.010094   \n",
       "total eve minutes               0.002541          -0.011067   \n",
       "total eve calls                 0.017434           0.008674   \n",
       "total eve charge                0.002541          -0.011074   \n",
       "total night minutes            -0.012353          -0.015180   \n",
       "total night calls               0.000305          -0.013630   \n",
       "total night charge             -0.012329          -0.015186   \n",
       "total intl minutes              0.032304           0.999993   \n",
       "total intl calls                1.000000           0.032372   \n",
       "total intl charge               0.032372           1.000000   \n",
       "customer service calls         -0.017561          -0.009675   \n",
       "\n",
       "                        customer service calls  \n",
       "state                                -0.025861  \n",
       "account length                       -0.003796  \n",
       "area code                             0.027572  \n",
       "international plan                   -0.024522  \n",
       "voice mail plan                      -0.017824  \n",
       "number vmail messages                -0.013263  \n",
       "total day minutes                    -0.013423  \n",
       "total day calls                      -0.018942  \n",
       "total day charge                     -0.013427  \n",
       "total eve minutes                    -0.012985  \n",
       "total eve calls                       0.002423  \n",
       "total eve charge                     -0.012987  \n",
       "total night minutes                  -0.009288  \n",
       "total night calls                    -0.012802  \n",
       "total night charge                   -0.009277  \n",
       "total intl minutes                   -0.009640  \n",
       "total intl calls                     -0.017561  \n",
       "total intl charge                    -0.009675  \n",
       "customer service calls                1.000000  "
      ]
     },
     "execution_count": 13,
     "metadata": {},
     "output_type": "execute_result"
    }
   ],
   "source": [
    "encoded_data.corr() #выводим матрицу корреляции"
   ]
  },
  {
   "cell_type": "code",
   "execution_count": 14,
   "metadata": {
    "colab": {},
    "colab_type": "code",
    "id": "pyDV5qdUFtnW"
   },
   "outputs": [],
   "source": [
    "#удаляем \"шум\"\n",
    "del encoded_data['total day charge']\n",
    "del encoded_data['total eve charge']\n",
    "del encoded_data['total night charge']\n",
    "del encoded_data['total intl charge']"
   ]
  },
  {
   "cell_type": "code",
   "execution_count": 15,
   "metadata": {
    "colab": {
     "base_uri": "https://localhost:8080/",
     "height": 660
    },
    "colab_type": "code",
    "id": "oYt4kbUfOKrZ",
    "outputId": "5eb05103-4ef9-494a-fd61-b830c0f586e1"
   },
   "outputs": [
    {
     "data": {
      "image/png": "[encoded data removed]",
      "text/plain": [
       "<Figure size 720x720 with 2 Axes>"
      ]
     },
     "metadata": {
      "needs_background": "light"
     },
     "output_type": "display_data"
    }
   ],
   "source": [
    "import seaborn as sns\n",
    "#вывожу тепловую карту очищенных данных\n",
    "plt.subplots(figsize=(10,10))\n",
    "sns.heatmap(encoded_data.corr(), square=True)\n",
    "plt.show()"
   ]
  },
  {
   "cell_type": "code",
   "execution_count": 16,
   "metadata": {
    "colab": {
     "base_uri": "https://localhost:8080/",
     "height": 207
    },
    "colab_type": "code",
    "id": "sFFaggYQwQW5",
    "outputId": "6d69e9d2-3bd0-45cf-8b3d-94873e45e23a"
   },
   "outputs": [
    {
     "data": {
      "text/html": [
       "<div>\n",
       "<style scoped>\n",
       "    .dataframe tbody tr th:only-of-type {\n",
       "        vertical-align: middle;\n",
       "    }\n",
       "\n",
       "    .dataframe tbody tr th {\n",
       "        vertical-align: top;\n",
       "    }\n",
       "\n",
       "    .dataframe thead th {\n",
       "        text-align: right;\n",
       "    }\n",
       "</style>\n",
       "<table border=\"1\" class=\"dataframe\">\n",
       "  <thead>\n",
       "    <tr style=\"text-align: right;\">\n",
       "      <th></th>\n",
       "      <th>state</th>\n",
       "      <th>account length</th>\n",
       "      <th>area code</th>\n",
       "      <th>international plan</th>\n",
       "      <th>voice mail plan</th>\n",
       "      <th>number vmail messages</th>\n",
       "      <th>total day minutes</th>\n",
       "      <th>total day calls</th>\n",
       "      <th>total eve minutes</th>\n",
       "      <th>total eve calls</th>\n",
       "      <th>total night minutes</th>\n",
       "      <th>total night calls</th>\n",
       "      <th>total intl minutes</th>\n",
       "      <th>total intl calls</th>\n",
       "      <th>customer service calls</th>\n",
       "    </tr>\n",
       "  </thead>\n",
       "  <tbody>\n",
       "    <tr>\n",
       "      <th>0</th>\n",
       "      <td>16</td>\n",
       "      <td>128</td>\n",
       "      <td>415</td>\n",
       "      <td>0</td>\n",
       "      <td>1</td>\n",
       "      <td>25</td>\n",
       "      <td>265.1</td>\n",
       "      <td>110</td>\n",
       "      <td>197.4</td>\n",
       "      <td>99</td>\n",
       "      <td>244.7</td>\n",
       "      <td>91</td>\n",
       "      <td>10.0</td>\n",
       "      <td>3</td>\n",
       "      <td>1</td>\n",
       "    </tr>\n",
       "    <tr>\n",
       "      <th>1</th>\n",
       "      <td>35</td>\n",
       "      <td>107</td>\n",
       "      <td>415</td>\n",
       "      <td>0</td>\n",
       "      <td>1</td>\n",
       "      <td>26</td>\n",
       "      <td>161.6</td>\n",
       "      <td>123</td>\n",
       "      <td>195.5</td>\n",
       "      <td>103</td>\n",
       "      <td>254.4</td>\n",
       "      <td>103</td>\n",
       "      <td>13.7</td>\n",
       "      <td>3</td>\n",
       "      <td>1</td>\n",
       "    </tr>\n",
       "    <tr>\n",
       "      <th>2</th>\n",
       "      <td>31</td>\n",
       "      <td>137</td>\n",
       "      <td>415</td>\n",
       "      <td>0</td>\n",
       "      <td>0</td>\n",
       "      <td>0</td>\n",
       "      <td>243.4</td>\n",
       "      <td>114</td>\n",
       "      <td>121.2</td>\n",
       "      <td>110</td>\n",
       "      <td>162.6</td>\n",
       "      <td>104</td>\n",
       "      <td>12.2</td>\n",
       "      <td>5</td>\n",
       "      <td>0</td>\n",
       "    </tr>\n",
       "    <tr>\n",
       "      <th>3</th>\n",
       "      <td>35</td>\n",
       "      <td>84</td>\n",
       "      <td>408</td>\n",
       "      <td>1</td>\n",
       "      <td>0</td>\n",
       "      <td>0</td>\n",
       "      <td>299.4</td>\n",
       "      <td>71</td>\n",
       "      <td>61.9</td>\n",
       "      <td>88</td>\n",
       "      <td>196.9</td>\n",
       "      <td>89</td>\n",
       "      <td>6.6</td>\n",
       "      <td>7</td>\n",
       "      <td>2</td>\n",
       "    </tr>\n",
       "    <tr>\n",
       "      <th>4</th>\n",
       "      <td>36</td>\n",
       "      <td>75</td>\n",
       "      <td>415</td>\n",
       "      <td>1</td>\n",
       "      <td>0</td>\n",
       "      <td>0</td>\n",
       "      <td>166.7</td>\n",
       "      <td>113</td>\n",
       "      <td>148.3</td>\n",
       "      <td>122</td>\n",
       "      <td>186.9</td>\n",
       "      <td>121</td>\n",
       "      <td>10.1</td>\n",
       "      <td>3</td>\n",
       "      <td>3</td>\n",
       "    </tr>\n",
       "  </tbody>\n",
       "</table>\n",
       "</div>"
      ],
      "text/plain": [
       "   state  account length  area code  international plan  voice mail plan  \\\n",
       "0     16             128        415                   0                1   \n",
       "1     35             107        415                   0                1   \n",
       "2     31             137        415                   0                0   \n",
       "3     35              84        408                   1                0   \n",
       "4     36              75        415                   1                0   \n",
       "\n",
       "   number vmail messages  total day minutes  total day calls  \\\n",
       "0                     25              265.1              110   \n",
       "1                     26              161.6              123   \n",
       "2                      0              243.4              114   \n",
       "3                      0              299.4               71   \n",
       "4                      0              166.7              113   \n",
       "\n",
       "   total eve minutes  total eve calls  total night minutes  total night calls  \\\n",
       "0              197.4               99                244.7                 91   \n",
       "1              195.5              103                254.4                103   \n",
       "2              121.2              110                162.6                104   \n",
       "3               61.9               88                196.9                 89   \n",
       "4              148.3              122                186.9                121   \n",
       "\n",
       "   total intl minutes  total intl calls  customer service calls  \n",
       "0                10.0                 3                       1  \n",
       "1                13.7                 3                       1  \n",
       "2                12.2                 5                       0  \n",
       "3                 6.6                 7                       2  \n",
       "4                10.1                 3                       3  "
      ]
     },
     "execution_count": 16,
     "metadata": {},
     "output_type": "execute_result"
    }
   ],
   "source": [
    "encoded_data.head()"
   ]
  },
  {
   "cell_type": "markdown",
   "metadata": {
    "colab_type": "text",
    "id": "tYMj4euycFgc"
   },
   "source": [
    "## Работа с данными"
   ]
  },
  {
   "cell_type": "markdown",
   "metadata": {
    "colab_type": "text",
    "id": "66uOoy0NZL7V"
   },
   "source": [
    "Создадим обучающую выборку Х, перевдем получанные цифровые данные в np.array"
   ]
  },
  {
   "cell_type": "code",
   "execution_count": 17,
   "metadata": {
    "colab": {
     "base_uri": "https://localhost:8080/",
     "height": 131
    },
    "colab_type": "code",
    "id": "CCxe_uBvZhwQ",
    "outputId": "a85d4fdd-30ab-4f98-f419-ff3841297825"
   },
   "outputs": [
    {
     "data": {
      "text/plain": [
       "array([[ 16. , 128. , 415. , ...,  10. ,   3. ,   1. ],\n",
       "       [ 35. , 107. , 415. , ...,  13.7,   3. ,   1. ],\n",
       "       [ 31. , 137. , 415. , ...,  12.2,   5. ,   0. ],\n",
       "       ...,\n",
       "       [ 39. ,  28. , 510. , ...,  14.1,   6. ,   2. ],\n",
       "       [  6. , 184. , 510. , ...,   5. ,  10. ,   2. ],\n",
       "       [ 42. ,  74. , 415. , ...,  13.7,   4. ,   0. ]])"
      ]
     },
     "execution_count": 17,
     "metadata": {},
     "output_type": "execute_result"
    }
   ],
   "source": [
    "X = np.array(encoded_data) #X = encoded_data.values.astype(np.float)\n",
    "X"
   ]
  },
  {
   "cell_type": "markdown",
   "metadata": {
    "colab_type": "text",
    "id": "smawbeJEZftc"
   },
   "source": [
    "Нормализуем наши данные. Если не помните зачем это делать? [тык](https://www.coursera.org/lecture/supervised-learning/masshtabirovaniie-priznakov-ozNT3)"
   ]
  },
  {
   "cell_type": "code",
   "execution_count": 18,
   "metadata": {
    "colab": {
     "base_uri": "https://localhost:8080/",
     "height": 228
    },
    "colab_type": "code",
    "id": "f4o1zjC-sCb8",
    "outputId": "f34c2bab-c749-4a0c-aee0-9a3fb64568dc"
   },
   "outputs": [
    {
     "name": "stdout",
     "output_type": "stream",
     "text": [
      "[[-0.6786493   0.67648946 -0.52360328 ... -0.08500823 -0.60119509\n",
      "  -0.42793202]\n",
      " [ 0.6031696   0.14906505 -0.52360328 ...  1.24048169 -0.60119509\n",
      "  -0.42793202]\n",
      " [ 0.33331299  0.9025285  -0.52360328 ...  0.70312091  0.21153386\n",
      "  -1.1882185 ]\n",
      " ...\n",
      " [ 0.87302621 -1.83505538  1.71881732 ...  1.3837779   0.61789834\n",
      "   0.33235445]\n",
      " [-1.35329082  2.08295458  1.71881732 ... -1.87621082  2.24335625\n",
      "   0.33235445]\n",
      " [ 1.07541867 -0.67974475 -0.52360328 ...  1.24048169 -0.19483061\n",
      "  -1.1882185 ]]\n"
     ]
    }
   ],
   "source": [
    "from sklearn import preprocessing\n",
    "# нормализуем данные\n",
    "normalized_X = preprocessing.normalize(X)\n",
    "# стандартизуем данные\n",
    "standardized_X = preprocessing.scale(X)\n",
    "\n",
    "X_scaled = standardized_X\n",
    "print(X_scaled)"
   ]
  },
  {
   "cell_type": "markdown",
   "metadata": {
    "colab_type": "text",
    "id": "eoD3dH39emcu"
   },
   "source": [
    "Найдем по y индексы клиентов, которые относятся к классу \"не ушили\"\n",
    "и, перемешав выборку, обрежем ее до размеров \"ушедших\". Т.к. это на занятии не разбиралось - код прилагается."
   ]
  },
  {
   "cell_type": "code",
   "execution_count": 19,
   "metadata": {
    "colab": {
     "base_uri": "https://localhost:8080/",
     "height": 50
    },
    "colab_type": "code",
    "id": "CwhnZeETetA7",
    "outputId": "5538e711-0c26-4bd7-c7d7-41afe59e1371"
   },
   "outputs": [
    {
     "name": "stdout",
     "output_type": "stream",
     "text": [
      "Всего не ушедших 2850\n"
     ]
    },
    {
     "data": {
      "text/plain": [
       "array([   0,    1,    2, ..., 3330, 3331, 3332])"
      ]
     },
     "execution_count": 19,
     "metadata": {},
     "output_type": "execute_result"
    }
   ],
   "source": [
    "# np.argwhere вернет индексы тех элементов массив y, где значение 0\n",
    "not_churn_ids = np.argwhere(y == 0).flatten()\n",
    "print('Всего не ушедших', len(not_churn_ids))\n",
    "not_churn_ids"
   ]
  },
  {
   "cell_type": "markdown",
   "metadata": {
    "colab_type": "text",
    "id": "VIMv8J_Qgyv5"
   },
   "source": [
    "Перемешаем массив с выбранным random state (чтоб в дальнейшем у нас совпадали выборки) выберем в нем \"лишние\" id тех, кто остались (кто портит нам прогноз алгоритма). Кол-во \"лишних\" = кол-во оставшихся - кол-во ушедшых."
   ]
  },
  {
   "cell_type": "code",
   "execution_count": 20,
   "metadata": {
    "colab": {
     "base_uri": "https://localhost:8080/",
     "height": 50
    },
    "colab_type": "code",
    "id": "TxuSyyoWgqPx",
    "outputId": "4aebf14c-171c-4615-e3a5-1668792cc0a2"
   },
   "outputs": [
    {
     "name": "stdout",
     "output_type": "stream",
     "text": [
      "2367\n"
     ]
    },
    {
     "data": {
      "text/plain": [
       "array([ 877, 3298,  614, ..., 1291, 1482,  989])"
      ]
     },
     "execution_count": 20,
     "metadata": {},
     "output_type": "execute_result"
    }
   ],
   "source": [
    "from sklearn.utils import shuffle\n",
    "\n",
    "not_churn_ids = shuffle(not_churn_ids, random_state = 42)\n",
    "# найдем \"лишних\", для этого обрежем найденные id на кол-во ушедших (внутри len)\n",
    "not_churn_ids = not_churn_ids[len(np.argwhere(y == 1).flatten()):]\n",
    "print(len(not_churn_ids))\n",
    "# отображаем кол-во и сами id, которые мы должны выкинуть\n",
    "not_churn_ids"
   ]
  },
  {
   "cell_type": "markdown",
   "metadata": {
    "colab_type": "text",
    "id": "Q2kX34VqjZdL"
   },
   "source": [
    "Проверим, сбалансированны ли классы\n",
    "\n",
    "по идее (оставшиеся) - (\"лишние\") = (ушедшие)"
   ]
  },
  {
   "cell_type": "code",
   "execution_count": 21,
   "metadata": {
    "colab": {
     "base_uri": "https://localhost:8080/",
     "height": 33
    },
    "colab_type": "code",
    "id": "r-6VUu19jX-Q",
    "outputId": "59d1b53b-80c4-4d97-9ce7-56a3b81a6cf7"
   },
   "outputs": [
    {
     "data": {
      "text/plain": [
       "True"
      ]
     },
     "execution_count": 21,
     "metadata": {},
     "output_type": "execute_result"
    }
   ],
   "source": [
    "len(np.argwhere(y == 0).flatten()) - len(not_churn_ids) == len(np.argwhere(y == 1).flatten())"
   ]
  },
  {
   "cell_type": "markdown",
   "metadata": {
    "colab_type": "text",
    "id": "4z4g4BASkFfw"
   },
   "source": [
    "Теперь можно выкинуть \"лишние\" id из X и y"
   ]
  },
  {
   "cell_type": "code",
   "execution_count": 22,
   "metadata": {
    "colab": {},
    "colab_type": "code",
    "id": "kHGBQfETkLJV"
   },
   "outputs": [],
   "source": [
    "# np.delete принимает массив, индексы, которые выбросить и по какой оси выкидывать\n",
    "X = np.delete(X, not_churn_ids, 0)\n",
    "y = np.delete(y, not_churn_ids, 0)"
   ]
  },
  {
   "cell_type": "code",
   "execution_count": 23,
   "metadata": {
    "colab": {
     "base_uri": "https://localhost:8080/",
     "height": 33
    },
    "colab_type": "code",
    "id": "SJgJGHeKk1s2",
    "outputId": "c5fd47f5-a851-4a22-faa7-66252e1813b1"
   },
   "outputs": [
    {
     "data": {
      "text/plain": [
       "((966, 15), (966,))"
      ]
     },
     "execution_count": 23,
     "metadata": {},
     "output_type": "execute_result"
    }
   ],
   "source": [
    "# отобразим итоговый размер признаков датасета\n",
    "X.shape, y.shape "
   ]
  },
  {
   "cell_type": "code",
   "execution_count": 24,
   "metadata": {
    "colab": {
     "base_uri": "https://localhost:8080/",
     "height": 66
    },
    "colab_type": "code",
    "id": "Twc1jIYZk80m",
    "outputId": "e7e8f8aa-a631-453d-acaa-75683ffe8d4a"
   },
   "outputs": [
    {
     "data": {
      "text/plain": [
       "1    483\n",
       "0    483\n",
       "dtype: int64"
      ]
     },
     "execution_count": 24,
     "metadata": {},
     "output_type": "execute_result"
    }
   ],
   "source": [
    "pd.Series(y).value_counts()"
   ]
  },
  {
   "cell_type": "markdown",
   "metadata": {
    "colab_type": "text",
    "id": "N8OsWvtidj6V"
   },
   "source": [
    "## Создание алгоритмов\n",
    "\n",
    "Посмотрим на 2 типа алгоритмов - KNN и линейную модель. В случае KNN будем решать задачу классификации. В случае линейного классификатора, для демонстрации всей обработки, будем использовать регрессию."
   ]
  },
  {
   "cell_type": "markdown",
   "metadata": {
    "colab_type": "text",
    "id": "vFcU7ISHzLxJ"
   },
   "source": [
    "Разделим нашу выборку на test train в соотношении 85 на 15 %"
   ]
  },
  {
   "cell_type": "code",
   "execution_count": 25,
   "metadata": {
    "colab": {},
    "colab_type": "code",
    "id": "oYRicWgyzLHD"
   },
   "outputs": [],
   "source": [
    "from sklearn.model_selection import train_test_split\n",
    "\n",
    "X_train, X_test, y_train, y_test = train_test_split(X,y, test_size=0.15, random_state=42)"
   ]
  },
  {
   "cell_type": "markdown",
   "metadata": {
    "colab_type": "text",
    "id": "t36f783h1iP9"
   },
   "source": [
    "#### KNN"
   ]
  },
  {
   "cell_type": "markdown",
   "metadata": {
    "colab_type": "text",
    "id": "U3pFXR9exFoY"
   },
   "source": [
    "Построим сетку, для нахождения лучшего гиперпараметра KNN, пройдем 100 значений (от 1 до 100)"
   ]
  },
  {
   "cell_type": "code",
   "execution_count": 26,
   "metadata": {
    "colab": {
     "base_uri": "https://localhost:8080/",
     "height": 293
    },
    "colab_type": "code",
    "id": "joY_xj8gS89t",
    "outputId": "c00f777f-3f99-4924-ecde-11118591dafd"
   },
   "outputs": [
    {
     "data": {
      "text/plain": [
       "GridSearchCV(cv=5, error_score=nan,\n",
       "             estimator=KNeighborsClassifier(algorithm='auto', leaf_size=30,\n",
       "                                            metric='minkowski',\n",
       "                                            metric_params=None, n_jobs=None,\n",
       "                                            n_neighbors=5, p=2,\n",
       "                                            weights='uniform'),\n",
       "             iid='deprecated', n_jobs=None,\n",
       "             param_grid={'n_neighbors': array([  2,   2,   3,   4,   5,   6,   7,   8,   9,  10,  11,  12,  13,\n",
       "        14,  15,  16,  17,  18,  19,  20,  21,  22,  23,  24,  25,  26,\n",
       "        27,  28,  29,  30,  31,  32,  33,  34,  35,  36,  37,  38,  39,\n",
       "        40,  41,  42,  43,  44,  45,  46,  47,  48,  49,  50,  51,  52,\n",
       "        53,  54,  55,  56,  57,  58,  59,  60,  61,  62,  63,  64,  65,\n",
       "        66,  67,  68,  69,  70,  71,  72,  73,  74,  75,  76,  77,  78,\n",
       "        79,  80,  81,  82,  83,  84,  85,  86,  87,  88,  89,  90,  91,\n",
       "        92,  93,  94,  95,  96,  97,  98,  99, 100])},\n",
       "             pre_dispatch='2*n_jobs', refit=True, return_train_score=False,\n",
       "             scoring=None, verbose=0)"
      ]
     },
     "execution_count": 26,
     "metadata": {},
     "output_type": "execute_result"
    }
   ],
   "source": [
    "# В sklearn есть специальный модуль для работы с кросс-валидацией\n",
    "from sklearn.model_selection import GridSearchCV\n",
    "\n",
    "from sklearn.neighbors import KNeighborsClassifier\n",
    "\n",
    "# Создадим классификатор\n",
    "knn = KNeighborsClassifier()\n",
    "\n",
    "# Зададим сетку - среди каких значений выбирать наилучший параметр.\n",
    "knn_grid = {'n_neighbors': np.array(np.linspace(2, 100, 100), dtype='int')} # перебираем по параметру <<n_neighbors>>, по сетке заданной np.linspace(2, 100, 10)\n",
    "\n",
    "# Создаем объект кросс-валидации\n",
    "gs = GridSearchCV(knn, knn_grid, cv=5)\n",
    "\n",
    "# Обучаем его\n",
    "gs.fit(X_train, y_train)"
   ]
  },
  {
   "cell_type": "code",
   "execution_count": 28,
   "metadata": {
    "colab": {},
    "colab_type": "code",
    "id": "OcoqFDoayu0K"
   },
   "outputs": [],
   "source": [
    "# Функция отрисовки графиков\n",
    "\n",
    "def grid_plot(x, y, x_label, title, y_label='accuracy'):\n",
    "    plt.figure(figsize=(12, 6))\n",
    "    plt.grid(True)\n",
    "    plt.plot(x, y, 'go-')\n",
    "    plt.xlabel(x_label)\n",
    "    plt.ylabel(y_label)\n",
    "    plt.title(title)"
   ]
  },
  {
   "cell_type": "code",
   "execution_count": 29,
   "metadata": {
    "colab": {
     "base_uri": "https://localhost:8080/",
     "height": 405
    },
    "colab_type": "code",
    "id": "7kkgHULhzFvN",
    "outputId": "478311db-e115-4693-821e-1d8ff832540a"
   },
   "outputs": [
    {
     "data": {
      "image/png": "[encoded data removed]",
      "text/plain": [
       "<Figure size 864x432 with 1 Axes>"
      ]
     },
     "metadata": {
      "needs_background": "light"
     },
     "output_type": "display_data"
    }
   ],
   "source": [
    "# Строим график зависимости качества от числа соседей\n",
    "# замечание: результаты обучения хранятся в атрибуте cv_results_ объекта gs\n",
    "\n",
    "grid_plot(knn_grid['n_neighbors'], gs.cv_results_['mean_test_score'], 'n_neighbors', 'KNeighborsClassifier')"
   ]
  },
  {
   "cell_type": "markdown",
   "metadata": {
    "colab_type": "text",
    "id": "6Hc_d_bTy_70"
   },
   "source": [
    "Отобразим лучший параметр"
   ]
  },
  {
   "cell_type": "code",
   "execution_count": 30,
   "metadata": {
    "colab": {
     "base_uri": "https://localhost:8080/",
     "height": 33
    },
    "colab_type": "code",
    "id": "WeJTAVsXXX33",
    "outputId": "78f9c459-c40c-44dc-d1b8-e287c4ca16c1"
   },
   "outputs": [
    {
     "data": {
      "text/plain": [
       "({'n_neighbors': 94}, 0.6784922394678492)"
      ]
     },
     "execution_count": 30,
     "metadata": {},
     "output_type": "execute_result"
    }
   ],
   "source": [
    "gs.best_params_, gs.best_score_"
   ]
  },
  {
   "cell_type": "markdown",
   "metadata": {
    "colab_type": "text",
    "id": "Oi_U0PkKz4qw"
   },
   "source": [
    "Инициализируем отдельный классификатор с лучшим значением, найденным на предыдущего перебора"
   ]
  },
  {
   "cell_type": "code",
   "execution_count": 31,
   "metadata": {
    "colab": {},
    "colab_type": "code",
    "id": "-H6KXy8Dy_C7"
   },
   "outputs": [],
   "source": [
    "clf_knn = knn.fit(X_train, y_train)"
   ]
  },
  {
   "cell_type": "markdown",
   "metadata": {
    "colab_type": "text",
    "id": "yrC_TdVz1Bd9"
   },
   "source": [
    "Получим предсказания от классификатора"
   ]
  },
  {
   "cell_type": "code",
   "execution_count": 32,
   "metadata": {
    "colab": {
     "base_uri": "https://localhost:8080/",
     "height": 131
    },
    "colab_type": "code",
    "id": "Ijva59LDZHM_",
    "outputId": "fcf32cb5-7355-435f-cc5b-2ac74920e2dc"
   },
   "outputs": [
    {
     "data": {
      "text/plain": [
       "array([0, 0, 0, 0, 0, 0, 1, 1, 1, 0, 0, 0, 1, 1, 1, 0, 0, 1, 1, 1, 0, 0,\n",
       "       1, 1, 0, 0, 0, 0, 1, 1, 0, 0, 1, 1, 1, 0, 1, 1, 1, 1, 1, 0, 1, 1,\n",
       "       1, 1, 1, 1, 0, 0, 0, 1, 1, 1, 0, 1, 1, 0, 0, 1, 0, 0, 1, 0, 0, 0,\n",
       "       1, 0, 1, 0, 0, 0, 1, 0, 0, 1, 0, 1, 0, 1, 0, 1, 0, 0, 1, 0, 1, 0,\n",
       "       0, 1, 0, 0, 1, 1, 1, 1, 1, 0, 1, 0, 0, 0, 1, 1, 1, 0, 1, 0, 1, 1,\n",
       "       1, 1, 1, 0, 1, 1, 1, 0, 0, 1, 1, 0, 0, 1, 0, 0, 0, 1, 1, 0, 1, 0,\n",
       "       0, 0, 0, 1, 0, 1, 0, 0, 0, 1, 0, 1, 1])"
      ]
     },
     "execution_count": 32,
     "metadata": {},
     "output_type": "execute_result"
    }
   ],
   "source": [
    "y_knn = clf_knn.predict(X_test)\n",
    "y_knn"
   ]
  },
  {
   "cell_type": "markdown",
   "metadata": {
    "colab_type": "text",
    "id": "PUsFrWB-0rjB"
   },
   "source": [
    "Посмотрим на метрики качества через classification report"
   ]
  },
  {
   "cell_type": "code",
   "execution_count": 33,
   "metadata": {
    "colab": {
     "base_uri": "https://localhost:8080/",
     "height": 163
    },
    "colab_type": "code",
    "id": "Ucr-vdMEZwXd",
    "outputId": "d513b9ba-a81c-4e1f-97f7-40fe5fbd182a"
   },
   "outputs": [
    {
     "name": "stdout",
     "output_type": "stream",
     "text": [
      "              precision    recall  f1-score   support\n",
      "\n",
      "           0       0.72      0.71      0.72        73\n",
      "           1       0.71      0.72      0.72        72\n",
      "\n",
      "    accuracy                           0.72       145\n",
      "   macro avg       0.72      0.72      0.72       145\n",
      "weighted avg       0.72      0.72      0.72       145\n",
      "\n"
     ]
    }
   ],
   "source": [
    "from sklearn import metrics\n",
    "print(metrics.classification_report(y_test, y_knn))"
   ]
  },
  {
   "cell_type": "markdown",
   "metadata": {
    "colab_type": "text",
    "id": "y3UXeIIV13ps"
   },
   "source": [
    "#### Линейный классификатор\n",
    "\n",
    "Построим линейную регрессию"
   ]
  },
  {
   "cell_type": "code",
   "execution_count": 34,
   "metadata": {
    "colab": {
     "base_uri": "https://localhost:8080/",
     "height": 33
    },
    "colab_type": "code",
    "id": "yK3ZFhei0Qwj",
    "outputId": "3d8ee596-5482-4934-b28d-3a3d6416186b"
   },
   "outputs": [
    {
     "data": {
      "text/plain": [
       "LinearRegression(copy_X=True, fit_intercept=True, n_jobs=None, normalize=False)"
      ]
     },
     "execution_count": 34,
     "metadata": {},
     "output_type": "execute_result"
    }
   ],
   "source": [
    "from sklearn import linear_model\n",
    "\n",
    "# линейный классификатор\n",
    "regr = linear_model.LinearRegression()\n",
    "\n",
    "# обучаем\n",
    "regr.fit(X_train, y_train)"
   ]
  },
  {
   "cell_type": "markdown",
   "metadata": {
    "colab_type": "text",
    "id": "1gtQEI8Z2pVL"
   },
   "source": [
    "Получим результаты"
   ]
  },
  {
   "cell_type": "code",
   "execution_count": 35,
   "metadata": {
    "colab": {
     "base_uri": "https://localhost:8080/",
     "height": 488
    },
    "colab_type": "code",
    "id": "ntcP91Cp2T4i",
    "outputId": "86ac90ea-87e9-4afc-f6a9-cce90e75b546"
   },
   "outputs": [
    {
     "data": {
      "text/plain": [
       "array([ 0.36491012, -0.00803942,  0.49966348,  0.39279667,  0.32931416,\n",
       "        0.03529229,  0.46628737,  0.66071897,  0.61912138,  0.31434876,\n",
       "        0.67557015,  0.50952445,  0.62463223,  0.64381514,  0.97660338,\n",
       "        0.16196862,  0.35018359,  0.50998392,  0.59210209, -0.22235997,\n",
       "        0.01848433,  0.41400391,  0.28525396,  0.58838004,  0.30144974,\n",
       "        0.1223382 ,  0.36062981,  0.49548444,  0.60180417,  0.38268767,\n",
       "        0.5855784 ,  0.75328017,  0.46691163,  0.10580058,  0.81596381,\n",
       "        0.32385145,  1.00633185,  0.33254164,  0.24505222,  0.4672771 ,\n",
       "        0.60104152,  0.17420288,  0.52180817,  0.77250733,  0.91342609,\n",
       "        0.34574777,  0.93274455,  1.06944159,  0.25561476,  0.13120826,\n",
       "        0.32280614,  0.85200222,  0.58054483,  0.73684937,  0.35288377,\n",
       "        0.64236168,  0.6867475 ,  0.19686724,  0.23236814,  0.97530563,\n",
       "        0.5976762 ,  0.29339085,  0.5791836 ,  0.73637745,  0.38830587,\n",
       "        0.82942416,  0.05902858,  0.34695337,  0.93775684,  0.61750614,\n",
       "        0.70655786,  0.24440809,  0.37490363,  0.40980478,  0.3624553 ,\n",
       "        0.61413539,  0.81588435,  0.51615254,  0.2659011 ,  0.61099526,\n",
       "        0.73680851,  0.65082666,  0.28251399,  0.30723191,  0.57901641,\n",
       "        0.28546266,  0.85907628,  0.35047276,  0.26091011,  0.58042597,\n",
       "        0.30247327,  0.4650604 ,  0.63917188,  0.63403236,  0.48366115,\n",
       "        0.56108238,  0.64074703,  0.74302984,  0.68636438,  0.51939212,\n",
       "        0.48348748,  0.15209057,  0.11254419,  0.96775058,  0.38586215,\n",
       "        0.45225578,  0.57512269,  0.22870893,  0.74849184,  0.41199774,\n",
       "        0.48036229,  0.64208914,  0.65593136,  0.49964668,  0.66309061,\n",
       "        0.73176961,  0.35695929,  0.22092244,  0.48462563,  0.22670754,\n",
       "        0.98595603,  0.62054858,  0.60679594,  0.23576279,  0.09610334,\n",
       "        0.26863963, -0.01428545,  0.33361285,  0.72335462,  0.83500043,\n",
       "        0.167422  ,  0.37691453,  0.62734142,  0.57680262,  0.60096834,\n",
       "        0.58204084,  0.35400589,  0.57613871,  0.49177814,  0.18518155,\n",
       "        0.02081182,  0.80757717,  0.61103353,  0.61422708,  0.53703433])"
      ]
     },
     "execution_count": 35,
     "metadata": {},
     "output_type": "execute_result"
    }
   ],
   "source": [
    "# получаем предсказания от двух\n",
    "predictions = regr.predict(X_test)\n",
    "predictions"
   ]
  },
  {
   "cell_type": "markdown",
   "metadata": {
    "colab_type": "text",
    "id": "Bi8cLd3522JG"
   },
   "source": [
    "Построим график того, как истинные ответы отличаются от предсказанных"
   ]
  },
  {
   "cell_type": "code",
   "execution_count": 36,
   "metadata": {
    "colab": {
     "base_uri": "https://localhost:8080/",
     "height": 888
    },
    "colab_type": "code",
    "id": "cGpVsAp82hBs",
    "outputId": "3bb18e3e-cf15-4a84-c63c-81e15e1d3d10"
   },
   "outputs": [
    {
     "name": "stderr",
     "output_type": "stream",
     "text": [
      "/home/ilia/snap/Anaconda/lib/python3.6/site-packages/ipykernel_launcher.py:4: MatplotlibDeprecationWarning: \n",
      "The 'normed' kwarg was deprecated in Matplotlib 2.1 and will be removed in 3.1. Use 'density' instead.\n",
      "  after removing the cwd from sys.path.\n"
     ]
    },
    {
     "data": {
      "text/plain": [
       "(array([0.19416275, 0.        , 0.58248826, 0.19416275, 0.19416275,\n",
       "        0.19416275, 0.38832551, 0.38832551, 0.58248826, 0.38832551,\n",
       "        0.        , 0.77665102, 0.38832551, 0.19416275, 1.74746479,\n",
       "        1.74746479, 1.16497652, 0.58248826, 0.58248826, 0.77665102,\n",
       "        0.38832551, 0.58248826, 0.38832551, 0.        , 0.58248826,\n",
       "        0.58248826, 0.77665102, 0.58248826, 0.19416275, 0.77665102,\n",
       "        0.        , 0.38832551, 0.77665102, 0.97081377, 0.97081377,\n",
       "        0.97081377, 1.74746479, 0.58248826, 0.38832551, 0.58248826,\n",
       "        1.55330203, 0.19416275, 0.38832551, 0.97081377, 0.77665102,\n",
       "        0.19416275, 0.        , 0.38832551, 0.        , 0.38832551]),\n",
       " array([-0.94097142, -0.90545198, -0.86993255, -0.83441311, -0.79889367,\n",
       "        -0.76337424, -0.7278548 , -0.69233536, -0.65681593, -0.62129649,\n",
       "        -0.58577705, -0.55025761, -0.51473818, -0.47921874, -0.4436993 ,\n",
       "        -0.40817987, -0.37266043, -0.33714099, -0.30162155, -0.26610212,\n",
       "        -0.23058268, -0.19506324, -0.15954381, -0.12402437, -0.08850493,\n",
       "        -0.0529855 , -0.01746606,  0.01805338,  0.05357282,  0.08909225,\n",
       "         0.12461169,  0.16013113,  0.19565056,  0.23117   ,  0.26668944,\n",
       "         0.30220888,  0.33772831,  0.37324775,  0.40876719,  0.44428662,\n",
       "         0.47980606,  0.5153255 ,  0.55084493,  0.58636437,  0.62188381,\n",
       "         0.65740325,  0.69292268,  0.72844212,  0.76396156,  0.79948099,\n",
       "         0.83500043]),\n",
       " <a list of 50 Patch objects>)"
      ]
     },
     "execution_count": 36,
     "metadata": {},
     "output_type": "execute_result"
    },
    {
     "data": {
      "image/png": "[encoded data removed]",
      "text/plain": [
       "<Figure size 1080x576 with 1 Axes>"
      ]
     },
     "metadata": {
      "needs_background": "light"
     },
     "output_type": "display_data"
    }
   ],
   "source": [
    "# отобразим разность предсказаний на гистограмме\n",
    "rem = predictions - y_test\n",
    "plt.figure(figsize=(15, 8))\n",
    "plt.hist(rem, bins=50, normed=True)"
   ]
  },
  {
   "cell_type": "markdown",
   "metadata": {
    "colab_type": "text",
    "id": "qnk4MHNZ3Mc-"
   },
   "source": [
    "Получим результат по $R^2$"
   ]
  },
  {
   "cell_type": "code",
   "execution_count": 37,
   "metadata": {
    "colab": {
     "base_uri": "https://localhost:8080/",
     "height": 33
    },
    "colab_type": "code",
    "id": "9K7YNZuI29nn",
    "outputId": "d1af55b9-1bb9-4713-e3ad-3669addcfb23"
   },
   "outputs": [
    {
     "name": "stdout",
     "output_type": "stream",
     "text": [
      "R2 score / LR = 0.20610304875180507\n"
     ]
    }
   ],
   "source": [
    "r2 = sklearn.metrics.r2_score(y_test, predictions)\n",
    "\n",
    "print(f\"R2 score / LR = {r2}\")"
   ]
  },
  {
   "cell_type": "markdown",
   "metadata": {
    "colab_type": "text",
    "id": "-IU5UGA03pla"
   },
   "source": [
    "Получим результат по MAE"
   ]
  },
  {
   "cell_type": "code",
   "execution_count": 38,
   "metadata": {
    "colab": {
     "base_uri": "https://localhost:8080/",
     "height": 33
    },
    "colab_type": "code",
    "id": "_cLSouIA3N4J",
    "outputId": "9ccd7df5-3e5d-417f-f6e3-8c9c7407de4d"
   },
   "outputs": [
    {
     "name": "stdout",
     "output_type": "stream",
     "text": [
      "MAE 0.3808786228115886\n"
     ]
    }
   ],
   "source": [
    "mae = sklearn.metrics.median_absolute_error(y_test, predictions)\n",
    "\n",
    "print (f\"MAE {mae}\")"
   ]
  },
  {
   "cell_type": "markdown",
   "metadata": {
    "colab_type": "text",
    "id": "HH8HKNDi4HNz"
   },
   "source": [
    "Мы построили 2 алгоритма, классификации через KNN - получили достаточно высокий f1 (~82%), без заметных проседаний в метриках Precision и Recall (благодаря балансировке классов) и линейный классификатор, который показал себя хуже, что видно по метрикам $R^2$ и Mean absolute error"
   ]
  }
 ],
 "metadata": {
  "colab": {
   "collapsed_sections": [],
   "name": "Copy of Copy of homework_2.ipynb",
   "provenance": [],
   "toc_visible": true
  },
  "kernelspec": {
   "display_name": "Python 3",
   "language": "python",
   "name": "python3"
  },
  "language_info": {
   "codemirror_mode": {
    "name": "ipython",
    "version": 3
   },
   "file_extension": ".py",
   "mimetype": "text/x-python",
   "name": "python",
   "nbconvert_exporter": "python",
   "pygments_lexer": "ipython3",
   "version": "3.6.10"
  },
  "toc": {
   "base_numbering": 1,
   "nav_menu": {},
   "number_sections": true,
   "sideBar": true,
   "skip_h1_title": false,
   "title_cell": "Table of Contents",
   "title_sidebar": "Contents",
   "toc_cell": false,
   "toc_position": {},
   "toc_section_display": true,
   "toc_window_display": false
  }
 },
 "nbformat": 4,
 "nbformat_minor": 1
}
